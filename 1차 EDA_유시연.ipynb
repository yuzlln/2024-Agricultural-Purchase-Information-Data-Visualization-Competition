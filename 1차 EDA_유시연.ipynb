{
 "cells": [
  {
   "cell_type": "markdown",
   "id": "aeb78b14",
   "metadata": {},
   "source": [
    "# 농식품 구매정보 데이터"
   ]
  },
  {
   "cell_type": "markdown",
   "id": "3e711ce9",
   "metadata": {},
   "source": [
    "## 1. EDA"
   ]
  },
  {
   "cell_type": "code",
   "execution_count": 57,
   "id": "a33cbe83",
   "metadata": {},
   "outputs": [
    {
     "name": "stderr",
     "output_type": "stream",
     "text": [
      "C:\\Users\\kuy20\\AppData\\Local\\Temp\\ipykernel_1780\\3762413277.py:2: FutureWarning: Inferring datetime64[ns] from data containing strings is deprecated and will be removed in a future version. To retain the old behavior explicitly pass Series(data, dtype=datetime64[ns])\n",
      "  data=pd.read_excel('C:/Users/kuy20/Desktop/실습/sql/fruits.xlsx')\n"
     ]
    },
    {
     "name": "stdout",
     "output_type": "stream",
     "text": [
      "<class 'pandas.core.frame.DataFrame'>\n",
      "RangeIndex: 538382 entries, 0 to 538381\n",
      "Data columns (total 49 columns):\n",
      " #   Column            Non-Null Count   Dtype         \n",
      "---  ------            --------------   -----         \n",
      " 0   year              538382 non-null  int64         \n",
      " 1   month             538382 non-null  int64         \n",
      " 2   panel_code        538382 non-null  object        \n",
      " 3   panel_code_new    491529 non-null  object        \n",
      " 4   type_method       47699 non-null   object        \n",
      " 5   type_method_etc   18 non-null      object        \n",
      " 6   type_channel_new  538382 non-null  object        \n",
      " 7   type_channel      530370 non-null  object        \n",
      " 8   type_channel_etc  33 non-null      object        \n",
      " 9   shop_day          538382 non-null  datetime64[ns]\n",
      " 10  shop_week         538382 non-null  object        \n",
      " 11  store             538353 non-null  object        \n",
      " 12  store_code        35906 non-null   object        \n",
      " 13  store_region      534267 non-null  object        \n",
      " 14  product           538381 non-null  object        \n",
      " 15  product_code      123707 non-null  object        \n",
      " 16  wide              538382 non-null  object        \n",
      " 17  middle            538382 non-null  object        \n",
      " 18  detail            538382 non-null  object        \n",
      " 19  country           23821 non-null   object        \n",
      " 20  purchase          538382 non-null  float64       \n",
      " 21  discount          333265 non-null  object        \n",
      " 22  quantity          538382 non-null  object        \n",
      " 23  q_unit            429619 non-null  object        \n",
      " 24  weight_quantity   523671 non-null  object        \n",
      " 25  w_q_unit          160988 non-null  object        \n",
      " 26  multi_quantity    502330 non-null  object        \n",
      " 27  m_unit            112491 non-null  object        \n",
      " 28  w_multi_quantity  80969 non-null   object        \n",
      " 29  w_multi_unit      33261 non-null   object        \n",
      " 30  w_q_kg            437922 non-null  object        \n",
      " 31  w_q_kg_unit       96541 non-null   object        \n",
      " 32  unit_cost         105220 non-null  object        \n",
      " 33  special_diary     25481 non-null   object        \n",
      " 34  bill              55161 non-null   object        \n",
      " 35  bundle            35396 non-null   object        \n",
      " 36  payment           1409 non-null    object        \n",
      " 37  retail            0 non-null       float64       \n",
      " 38  retail_8          440731 non-null  object        \n",
      " 39  retail_new        440731 non-null  object        \n",
      " 40  shop_time         366184 non-null  object        \n",
      " 41  take_out          440731 non-null  object        \n",
      " 42  transport_pre     0 non-null       float64       \n",
      " 43  transport_post    0 non-null       float64       \n",
      " 44  panel_type        538369 non-null  float64       \n",
      " 45  edit              538382 non-null  object        \n",
      " 46  family_num_level  538382 non-null  int64         \n",
      " 47  age1_group        538382 non-null  int64         \n",
      " 48  income_v2         538382 non-null  object        \n",
      "dtypes: datetime64[ns](1), float64(5), int64(4), object(39)\n",
      "memory usage: 201.3+ MB\n"
     ]
    }
   ],
   "source": [
    "import pandas as pd\n",
    "data=pd.read_excel('C:/Users/kuy20/Desktop/실습/sql/fruits.xlsx')\n",
    "data.info()"
   ]
  },
  {
   "cell_type": "markdown",
   "id": "953932e0",
   "metadata": {},
   "source": [
    "##  (1) 필요 없는 열 제거 & 중복 행 제거"
   ]
  },
  {
   "cell_type": "code",
   "execution_count": 58,
   "id": "c721b179",
   "metadata": {},
   "outputs": [],
   "source": [
    "# 총 22개 제거 axis=1 열 제거\n",
    "df=data.drop(['panel_code_new','store','type_method','type_method_etc','type_channel','type_channel_etc','store_code','product_code','country','discount','special_diary','bill','bundle','payment','retail','retail_8','retail_new','shop_time','take_out','transport_pre','transport_post','panel_type','edit'],axis=1)\n",
    "df.head(5)\n",
    "df=pd.DataFrame(df)"
   ]
  },
  {
   "cell_type": "code",
   "execution_count": 59,
   "id": "fae67c72",
   "metadata": {},
   "outputs": [],
   "source": [
    "# 중복 행 제거\n",
    "df2=df.drop_duplicates()"
   ]
  },
  {
   "cell_type": "markdown",
   "id": "9b447b88",
   "metadata": {},
   "source": [
    "## (2) 결측값 처리"
   ]
  },
  {
   "cell_type": "markdown",
   "id": "9b391ef7",
   "metadata": {},
   "source": [
    "### @ store_region, product의 결측값 처리"
   ]
  },
  {
   "cell_type": "code",
   "execution_count": 60,
   "id": "de551c80",
   "metadata": {},
   "outputs": [
    {
     "data": {
      "text/plain": [
       "year                     0\n",
       "month                    0\n",
       "panel_code               0\n",
       "type_channel_new         0\n",
       "shop_day                 0\n",
       "shop_week                0\n",
       "store_region          4109\n",
       "product                  1\n",
       "wide                     0\n",
       "middle                   0\n",
       "detail                   0\n",
       "purchase                 0\n",
       "quantity                 0\n",
       "q_unit              108071\n",
       "weight_quantity      14647\n",
       "w_q_unit            372668\n",
       "multi_quantity       35949\n",
       "m_unit              419888\n",
       "w_multi_quantity    450990\n",
       "w_multi_unit        498531\n",
       "w_q_kg              100179\n",
       "w_q_kg_unit         436997\n",
       "unit_cost           426827\n",
       "family_num_level         0\n",
       "age1_group               0\n",
       "income_v2                0\n",
       "dtype: int64"
      ]
     },
     "execution_count": 60,
     "metadata": {},
     "output_type": "execute_result"
    }
   ],
   "source": [
    "df2.isna().sum()"
   ]
  },
  {
   "cell_type": "markdown",
   "id": "410a367f",
   "metadata": {},
   "source": [
    "### @ type_channel_new가 '온라인몰' 인 것을 store_region가 '온라인'이 되도록 처리 (1064개의 행 처리)"
   ]
  },
  {
   "cell_type": "code",
   "execution_count": 61,
   "id": "02f36eb2",
   "metadata": {},
   "outputs": [],
   "source": [
    "df2.loc[df2['type_channel_new']=='온라인몰','store_region']='온라인' # 특정"
   ]
  },
  {
   "cell_type": "code",
   "execution_count": 62,
   "id": "054b350c",
   "metadata": {},
   "outputs": [
    {
     "data": {
      "text/plain": [
       "year                     0\n",
       "month                    0\n",
       "panel_code               0\n",
       "type_channel_new         0\n",
       "shop_day                 0\n",
       "shop_week                0\n",
       "store_region          3045\n",
       "product                  1\n",
       "wide                     0\n",
       "middle                   0\n",
       "detail                   0\n",
       "purchase                 0\n",
       "quantity                 0\n",
       "q_unit              108071\n",
       "weight_quantity      14647\n",
       "w_q_unit            372668\n",
       "multi_quantity       35949\n",
       "m_unit              419888\n",
       "w_multi_quantity    450990\n",
       "w_multi_unit        498531\n",
       "w_q_kg              100179\n",
       "w_q_kg_unit         436997\n",
       "unit_cost           426827\n",
       "family_num_level         0\n",
       "age1_group               0\n",
       "income_v2                0\n",
       "dtype: int64"
      ]
     },
     "execution_count": 62,
     "metadata": {},
     "output_type": "execute_result"
    }
   ],
   "source": [
    "df2.isna().sum()"
   ]
  },
  {
   "cell_type": "markdown",
   "id": "c7e4b2cd",
   "metadata": {},
   "source": [
    "### @ 나머지 3046개의 결측값은 전체의 약 0.5%을 차지하므로 그냥 제거"
   ]
  },
  {
   "cell_type": "code",
   "execution_count": 63,
   "id": "fd5758a7",
   "metadata": {},
   "outputs": [],
   "source": [
    "df=df2.dropna(subset=['store_region'])\n",
    "df=df.dropna(subset=['product'])"
   ]
  },
  {
   "cell_type": "code",
   "execution_count": 64,
   "id": "afc8ddd2",
   "metadata": {},
   "outputs": [
    {
     "data": {
      "text/plain": [
       "year                     0\n",
       "month                    0\n",
       "panel_code               0\n",
       "type_channel_new         0\n",
       "shop_day                 0\n",
       "shop_week                0\n",
       "store_region             0\n",
       "product                  0\n",
       "wide                     0\n",
       "middle                   0\n",
       "detail                   0\n",
       "purchase                 0\n",
       "quantity                 0\n",
       "q_unit              106541\n",
       "weight_quantity      14646\n",
       "w_q_unit            371587\n",
       "multi_quantity       35943\n",
       "m_unit              417672\n",
       "w_multi_quantity    450983\n",
       "w_multi_unit        496004\n",
       "w_q_kg               97133\n",
       "w_q_kg_unit         433951\n",
       "unit_cost           426822\n",
       "family_num_level         0\n",
       "age1_group               0\n",
       "income_v2                0\n",
       "dtype: int64"
      ]
     },
     "execution_count": 64,
     "metadata": {},
     "output_type": "execute_result"
    }
   ],
   "source": [
    "df.isna().sum()"
   ]
  },
  {
   "cell_type": "markdown",
   "id": "02a72e40",
   "metadata": {},
   "source": [
    "### @ 여기까지 엑셀로 저장하기"
   ]
  },
  {
   "cell_type": "code",
   "execution_count": 65,
   "id": "73a8aa3a",
   "metadata": {},
   "outputs": [],
   "source": [
    "df.to_excel('C:/Users/kuy20/Desktop/실습/sql/fruits_after.xlsx')"
   ]
  },
  {
   "cell_type": "code",
   "execution_count": 2,
   "id": "ec769165",
   "metadata": {},
   "outputs": [],
   "source": [
    "import pandas as pd\n",
    "df=pd.read_excel('C:/Users/kuy20/Desktop/실습/sql/fruits_after.xlsx')"
   ]
  },
  {
   "cell_type": "markdown",
   "id": "27215793",
   "metadata": {},
   "source": [
    "## (3) 변수 분석"
   ]
  },
  {
   "cell_type": "code",
   "execution_count": 3,
   "id": "813305ed",
   "metadata": {},
   "outputs": [],
   "source": [
    "import matplotlib.pyplot as plt\n",
    "import seaborn as sns\n",
    "from matplotlib import font_manager, rc\n",
    "import platform\n",
    "\n",
    "if platform.system()=='Windows':\n",
    "    path='c:/Windows/Fonts/malgun.ttf'\n",
    "    font_name=font_manager.FontProperties(fname=path).get_name()\n",
    "    rc('font',family=font_name)\n",
    "elif platform.system()=='Darwin':\n",
    "    rc('font',family='AppleGothic')\n",
    "else:\n",
    "    print('Check your OS system')"
   ]
  },
  {
   "cell_type": "markdown",
   "id": "2473a534",
   "metadata": {},
   "source": [
    "### @ Year(연도) "
   ]
  },
  {
   "cell_type": "markdown",
   "id": "1efb11cf",
   "metadata": {},
   "source": [
    "#### 결측값&이상값 없음"
   ]
  },
  {
   "cell_type": "code",
   "execution_count": 67,
   "id": "41312485",
   "metadata": {},
   "outputs": [
    {
     "data": {
      "text/plain": [
       "2022    47602\n",
       "2023    46727\n",
       "2015    43023\n",
       "2016    42110\n",
       "2010    41974\n",
       "2017    40275\n",
       "2011    38508\n",
       "2012    36797\n",
       "2014    36107\n",
       "2018    35216\n",
       "2013    34095\n",
       "2019    31080\n",
       "2020    29166\n",
       "2021    25942\n",
       "Name: year, dtype: int64"
      ]
     },
     "execution_count": 67,
     "metadata": {},
     "output_type": "execute_result"
    }
   ],
   "source": [
    "# 항목별 개수\n",
    "df['year'].value_counts()"
   ]
  },
  {
   "cell_type": "code",
   "execution_count": 68,
   "id": "e88c0ff8",
   "metadata": {},
   "outputs": [
    {
     "data": {
      "text/plain": [
       "<Axes: xlabel='year', ylabel='count'>"
      ]
     },
     "execution_count": 68,
     "metadata": {},
     "output_type": "execute_result"
    },
    {
     "data": {
      "image/png": "[encoded data removed]",
      "text/plain": [
       "<Figure size 640x480 with 1 Axes>"
      ]
     },
     "metadata": {},
     "output_type": "display_data"
    }
   ],
   "source": [
    "sns.countplot(x=\"year\",data=df)"
   ]
  },
  {
   "cell_type": "markdown",
   "id": "4d09b15c",
   "metadata": {},
   "source": [
    "### @ Month (월)"
   ]
  },
  {
   "cell_type": "markdown",
   "id": "7fd8da75",
   "metadata": {},
   "source": [
    "#### 결측값&이상값 없음"
   ]
  },
  {
   "cell_type": "code",
   "execution_count": 69,
   "id": "fa596d7f",
   "metadata": {},
   "outputs": [
    {
     "data": {
      "text/plain": [
       "8     55224\n",
       "10    52841\n",
       "9     50164\n",
       "11    47052\n",
       "1     46080\n",
       "7     45240\n",
       "12    43631\n",
       "3     42330\n",
       "4     41176\n",
       "2     36361\n",
       "5     35781\n",
       "6     32742\n",
       "Name: month, dtype: int64"
      ]
     },
     "execution_count": 69,
     "metadata": {},
     "output_type": "execute_result"
    }
   ],
   "source": [
    "# 항목별 개수\n",
    "df['month'].value_counts()"
   ]
  },
  {
   "cell_type": "code",
   "execution_count": 70,
   "id": "1936cd86",
   "metadata": {},
   "outputs": [
    {
     "data": {
      "text/plain": [
       "<Axes: xlabel='month', ylabel='count'>"
      ]
     },
     "execution_count": 70,
     "metadata": {},
     "output_type": "execute_result"
    },
    {
     "data": {
      "image/png": "[encoded data removed]",
      "text/plain": [
       "<Figure size 640x480 with 1 Axes>"
      ]
     },
     "metadata": {},
     "output_type": "display_data"
    }
   ],
   "source": [
    "sns.countplot(x=\"month\",data=df)"
   ]
  },
  {
   "cell_type": "markdown",
   "id": "f947d7fc",
   "metadata": {},
   "source": [
    "### @ Pannel_code(고객코드)"
   ]
  },
  {
   "cell_type": "markdown",
   "id": "19184c89",
   "metadata": {},
   "source": [
    "#### 결측값&이상값 없음"
   ]
  },
  {
   "cell_type": "code",
   "execution_count": 72,
   "id": "3f96b22f",
   "metadata": {
    "scrolled": true
   },
   "outputs": [
    {
     "data": {
      "text/plain": [
       "PN00000701    2557\n",
       "PN00000147    2445\n",
       "PN00000965    2022\n",
       "PN00000813    1894\n",
       "PN00000485    1739\n",
       "              ... \n",
       "PN20210615       1\n",
       "PN20210978       1\n",
       "PN20210997       1\n",
       "PN00001344       1\n",
       "PN20210178       1\n",
       "Name: panel_code, Length: 1961, dtype: int64"
      ]
     },
     "execution_count": 72,
     "metadata": {},
     "output_type": "execute_result"
    }
   ],
   "source": [
    "df['panel_code'].value_counts()"
   ]
  },
  {
   "cell_type": "code",
   "execution_count": 73,
   "id": "3f1515d6",
   "metadata": {},
   "outputs": [
    {
     "data": {
      "text/plain": [
       "panel_code\n",
       "PN00000001     2982176.0\n",
       "PN00000002     5275940.0\n",
       "PN00000003    10550140.0\n",
       "PN00000004      397570.0\n",
       "PN00000005     7565558.0\n",
       "                 ...    \n",
       "PN20211054      818100.0\n",
       "PN20211056      766338.0\n",
       "PN20211057      211270.0\n",
       "PN20211058       16160.0\n",
       "PN20211059      745108.0\n",
       "Name: purchase, Length: 1961, dtype: float64"
      ]
     },
     "execution_count": 73,
     "metadata": {},
     "output_type": "execute_result"
    }
   ],
   "source": [
    "df.groupby('panel_code')['purchase'].sum()"
   ]
  },
  {
   "cell_type": "markdown",
   "id": "482a4d51",
   "metadata": {},
   "source": [
    "### @ Type_channel_new (구매장소)"
   ]
  },
  {
   "cell_type": "markdown",
   "id": "c95d944d",
   "metadata": {},
   "source": [
    "#### 결측값&이상값 없음"
   ]
  },
  {
   "cell_type": "code",
   "execution_count": 74,
   "id": "7d4e4b06",
   "metadata": {},
   "outputs": [
    {
     "data": {
      "text/plain": [
       "슈퍼마켓     243877\n",
       "대형마트      96693\n",
       "전통시장      83058\n",
       "전문점       37061\n",
       "무점포       28589\n",
       "온라인몰      25961\n",
       "백화점        7640\n",
       "농가직거래      7459\n",
       "편의점        3672\n",
       "기타         3469\n",
       "홈쇼핑         407\n",
       "정육점         299\n",
       "외식업체        197\n",
       "Name: type_channel_new, dtype: int64"
      ]
     },
     "execution_count": 74,
     "metadata": {},
     "output_type": "execute_result"
    }
   ],
   "source": [
    "data['type_channel_new'].value_counts()"
   ]
  },
  {
   "cell_type": "code",
   "execution_count": 80,
   "id": "ae72fb90",
   "metadata": {},
   "outputs": [
    {
     "data": {
      "text/plain": [
       "type_channel_new\n",
       "기타       4.564204e+07\n",
       "농가직거래    2.476371e+08\n",
       "대형마트     7.026903e+08\n",
       "무점포      2.576752e+08\n",
       "백화점      6.870348e+07\n",
       "슈퍼마켓     1.641292e+09\n",
       "온라인몰     3.503641e+08\n",
       "외식업체     1.168900e+06\n",
       "전문점      3.312234e+08\n",
       "전통시장     6.559004e+08\n",
       "정육점      3.327530e+06\n",
       "편의점      1.339915e+07\n",
       "홈쇼핑      1.370674e+07\n",
       "Name: purchase, dtype: float64"
      ]
     },
     "execution_count": 80,
     "metadata": {},
     "output_type": "execute_result"
    }
   ],
   "source": [
    "df.groupby('type_channel_new')['purchase'].sum()"
   ]
  },
  {
   "cell_type": "markdown",
   "id": "d75687da",
   "metadata": {},
   "source": [
    "### @ shop_day (구매날짜)"
   ]
  },
  {
   "cell_type": "markdown",
   "id": "f12c1195",
   "metadata": {},
   "source": [
    "#### 결측값&이상값 없음"
   ]
  },
  {
   "cell_type": "code",
   "execution_count": 81,
   "id": "f82c2d12",
   "metadata": {},
   "outputs": [
    {
     "data": {
      "text/plain": [
       "5113"
      ]
     },
     "execution_count": 81,
     "metadata": {},
     "output_type": "execute_result"
    }
   ],
   "source": [
    "data['shop_day'].nunique()"
   ]
  },
  {
   "cell_type": "code",
   "execution_count": 82,
   "id": "97e467ef",
   "metadata": {},
   "outputs": [
    {
     "data": {
      "text/plain": [
       "2022-09-09    328\n",
       "2022-08-27    283\n",
       "2018-09-22    272\n",
       "2015-09-26    270\n",
       "2022-09-08    260\n",
       "             ... \n",
       "2020-01-26     26\n",
       "2021-09-22     25\n",
       "2021-02-12     25\n",
       "2018-02-16     22\n",
       "2018-05-01      2\n",
       "Name: shop_day, Length: 5113, dtype: int64"
      ]
     },
     "execution_count": 82,
     "metadata": {},
     "output_type": "execute_result"
    }
   ],
   "source": [
    "data['shop_day'].value_counts()"
   ]
  },
  {
   "cell_type": "code",
   "execution_count": 83,
   "id": "a645eda1",
   "metadata": {},
   "outputs": [
    {
     "data": {
      "text/plain": [
       "[<matplotlib.lines.Line2D at 0x29ae5c66250>]"
      ]
     },
     "execution_count": 83,
     "metadata": {},
     "output_type": "execute_result"
    },
    {
     "data": {
      "image/png": "[encoded data removed]",
      "text/plain": [
       "<Figure size 640x480 with 1 Axes>"
      ]
     },
     "metadata": {},
     "output_type": "display_data"
    }
   ],
   "source": [
    "plt.plot(df['shop_day'],df['purchase'])"
   ]
  },
  {
   "cell_type": "code",
   "execution_count": 91,
   "id": "8819e0a6",
   "metadata": {},
   "outputs": [
    {
     "data": {
      "text/plain": [
       "shop_day\n",
       "2010-01-01     651170.0\n",
       "2010-01-02     663224.0\n",
       "2010-01-03     579075.0\n",
       "2010-01-04     439883.0\n",
       "2010-01-05     561987.0\n",
       "                ...    \n",
       "2023-12-27    1123380.0\n",
       "2023-12-28    1437050.0\n",
       "2023-12-29    1043269.0\n",
       "2023-12-30    1406658.0\n",
       "2023-12-31    1212846.0\n",
       "Name: purchase, Length: 5113, dtype: float64"
      ]
     },
     "execution_count": 91,
     "metadata": {},
     "output_type": "execute_result"
    }
   ],
   "source": [
    "df.groupby('shop_day')['purchase'].sum()"
   ]
  },
  {
   "cell_type": "markdown",
   "id": "9aee1a6f",
   "metadata": {},
   "source": [
    "### @ Shop_week (구매요일)"
   ]
  },
  {
   "cell_type": "markdown",
   "id": "06a2f47b",
   "metadata": {},
   "source": [
    "####  ',' 1개 존재 (토요일로 바꿈) / 나머지 숫자형으로 되어있는 부분 요일 명으로 바꿈"
   ]
  },
  {
   "cell_type": "code",
   "execution_count": 4,
   "id": "65b7c03b",
   "metadata": {},
   "outputs": [],
   "source": [
    "# 문자형으로 바꾸기\n",
    "# 2019-11-23은 토요일 이므로 바꾸기\n",
    "df[df['shop_week']== '.']\n",
    "df.loc[df['shop_week']== '.','shop_week']='7'\n",
    "df['shop_week'] = df['shop_week'].astype(int)"
   ]
  },
  {
   "cell_type": "code",
   "execution_count": 112,
   "id": "c395c8e5",
   "metadata": {},
   "outputs": [
    {
     "data": {
      "text/plain": [
       "7    89687\n",
       "6    77790\n",
       "2    73296\n",
       "5    73015\n",
       "4    72511\n",
       "3    71493\n",
       "1    70830\n",
       "Name: shop_week, dtype: int64"
      ]
     },
     "execution_count": 112,
     "metadata": {},
     "output_type": "execute_result"
    }
   ],
   "source": [
    "df['shop_week'].value_counts()"
   ]
  },
  {
   "cell_type": "code",
   "execution_count": 5,
   "id": "dd462e85",
   "metadata": {},
   "outputs": [],
   "source": [
    "df.loc[df['shop_week']== 1,'shop_week']='일'\n",
    "df.loc[df['shop_week']== 2,'shop_week']='월'\n",
    "df.loc[df['shop_week']== 3,'shop_week']='화'\n",
    "df.loc[df['shop_week']== 4,'shop_week']='수'\n",
    "df.loc[df['shop_week']== 5,'shop_week']='목'\n",
    "df.loc[df['shop_week']== 6,'shop_week']='금'\n",
    "df.loc[df['shop_week']== 7,'shop_week']='토'"
   ]
  },
  {
   "cell_type": "code",
   "execution_count": 116,
   "id": "b73a6930",
   "metadata": {},
   "outputs": [
    {
     "data": {
      "text/plain": [
       "토    89687\n",
       "금    77790\n",
       "월    73296\n",
       "목    73015\n",
       "수    72511\n",
       "화    71493\n",
       "일    70830\n",
       "Name: shop_week, dtype: int64"
      ]
     },
     "execution_count": 116,
     "metadata": {},
     "output_type": "execute_result"
    }
   ],
   "source": [
    "df['shop_week'].value_counts()"
   ]
  },
  {
   "cell_type": "code",
   "execution_count": 117,
   "id": "9514cf70",
   "metadata": {},
   "outputs": [
    {
     "data": {
      "text/plain": [
       "<Axes: xlabel='shop_week', ylabel='count'>"
      ]
     },
     "execution_count": 117,
     "metadata": {},
     "output_type": "execute_result"
    },
    {
     "data": {
      "image/png": "[encoded data removed]",
      "text/plain": [
       "<Figure size 640x480 with 1 Axes>"
      ]
     },
     "metadata": {},
     "output_type": "display_data"
    }
   ],
   "source": [
    "sns.countplot(x=\"shop_week\",data=df)"
   ]
  },
  {
   "cell_type": "markdown",
   "id": "2bbb6c57",
   "metadata": {},
   "source": [
    "### @ store_region(구매지역)"
   ]
  },
  {
   "cell_type": "markdown",
   "id": "2b3c9768",
   "metadata": {},
   "source": [
    "#### '기타' 2개 '없음' 44265개 존재"
   ]
  },
  {
   "cell_type": "markdown",
   "id": "301f9837",
   "metadata": {},
   "source": [
    "#### '기타'는 모두 경기로 교체/ '없음'은 고려 대상"
   ]
  },
  {
   "cell_type": "code",
   "execution_count": 118,
   "id": "32028bc1",
   "metadata": {},
   "outputs": [
    {
     "data": {
      "text/plain": [
       "경기     231212\n",
       "서울     174470\n",
       "인천      47653\n",
       "없음      44265\n",
       "온라인     25878\n",
       "강원        968\n",
       "충남        691\n",
       "부산        666\n",
       "제주        638\n",
       "경북        540\n",
       "충북        349\n",
       "전남        321\n",
       "전북        240\n",
       "경남        199\n",
       "대전        147\n",
       "광주        134\n",
       "울산        132\n",
       "대구         88\n",
       "세종         29\n",
       "기타          2\n",
       "Name: store_region, dtype: int64"
      ]
     },
     "execution_count": 118,
     "metadata": {},
     "output_type": "execute_result"
    }
   ],
   "source": [
    "df['store_region'].value_counts()"
   ]
  },
  {
   "cell_type": "code",
   "execution_count": 6,
   "id": "44a5f141",
   "metadata": {},
   "outputs": [
    {
     "data": {
      "text/html": [
       "<div>\n",
       "<style scoped>\n",
       "    .dataframe tbody tr th:only-of-type {\n",
       "        vertical-align: middle;\n",
       "    }\n",
       "\n",
       "    .dataframe tbody tr th {\n",
       "        vertical-align: top;\n",
       "    }\n",
       "\n",
       "    .dataframe thead th {\n",
       "        text-align: right;\n",
       "    }\n",
       "</style>\n",
       "<table border=\"1\" class=\"dataframe\">\n",
       "  <thead>\n",
       "    <tr style=\"text-align: right;\">\n",
       "      <th></th>\n",
       "      <th>Unnamed: 0</th>\n",
       "      <th>year</th>\n",
       "      <th>month</th>\n",
       "      <th>panel_code</th>\n",
       "      <th>type_channel_new</th>\n",
       "      <th>shop_day</th>\n",
       "      <th>shop_week</th>\n",
       "      <th>store_region</th>\n",
       "      <th>product</th>\n",
       "      <th>wide</th>\n",
       "      <th>...</th>\n",
       "      <th>multi_quantity</th>\n",
       "      <th>m_unit</th>\n",
       "      <th>w_multi_quantity</th>\n",
       "      <th>w_multi_unit</th>\n",
       "      <th>w_q_kg</th>\n",
       "      <th>w_q_kg_unit</th>\n",
       "      <th>unit_cost</th>\n",
       "      <th>family_num_level</th>\n",
       "      <th>age1_group</th>\n",
       "      <th>income_v2</th>\n",
       "    </tr>\n",
       "  </thead>\n",
       "  <tbody>\n",
       "    <tr>\n",
       "      <th>387363</th>\n",
       "      <td>393363</td>\n",
       "      <td>2020</td>\n",
       "      <td>4</td>\n",
       "      <td>PN00001188</td>\n",
       "      <td>대형마트</td>\n",
       "      <td>2020-04-30</td>\n",
       "      <td>목</td>\n",
       "      <td>기타</td>\n",
       "      <td>호주산_어텀크리스피</td>\n",
       "      <td>과일류</td>\n",
       "      <td>...</td>\n",
       "      <td>.</td>\n",
       "      <td>NaN</td>\n",
       "      <td>NaN</td>\n",
       "      <td>NaN</td>\n",
       "      <td>1</td>\n",
       "      <td>KG</td>\n",
       "      <td>NaN</td>\n",
       "      <td>3</td>\n",
       "      <td>50</td>\n",
       "      <td>300~399만원</td>\n",
       "    </tr>\n",
       "    <tr>\n",
       "      <th>387364</th>\n",
       "      <td>393364</td>\n",
       "      <td>2020</td>\n",
       "      <td>4</td>\n",
       "      <td>PN00001188</td>\n",
       "      <td>대형마트</td>\n",
       "      <td>2020-04-30</td>\n",
       "      <td>목</td>\n",
       "      <td>기타</td>\n",
       "      <td>프리미엄바나나</td>\n",
       "      <td>과일류</td>\n",
       "      <td>...</td>\n",
       "      <td>7</td>\n",
       "      <td>개</td>\n",
       "      <td>NaN</td>\n",
       "      <td>NaN</td>\n",
       "      <td>.</td>\n",
       "      <td>NaN</td>\n",
       "      <td>NaN</td>\n",
       "      <td>3</td>\n",
       "      <td>50</td>\n",
       "      <td>300~399만원</td>\n",
       "    </tr>\n",
       "  </tbody>\n",
       "</table>\n",
       "<p>2 rows × 27 columns</p>\n",
       "</div>"
      ],
      "text/plain": [
       "        Unnamed: 0  year  month  panel_code type_channel_new   shop_day  \\\n",
       "387363      393363  2020      4  PN00001188             대형마트 2020-04-30   \n",
       "387364      393364  2020      4  PN00001188             대형마트 2020-04-30   \n",
       "\n",
       "       shop_week store_region     product wide  ... multi_quantity m_unit  \\\n",
       "387363         목           기타  호주산_어텀크리스피  과일류  ...              .    NaN   \n",
       "387364         목           기타     프리미엄바나나  과일류  ...              7      개   \n",
       "\n",
       "        w_multi_quantity w_multi_unit w_q_kg w_q_kg_unit unit_cost  \\\n",
       "387363               NaN          NaN      1          KG       NaN   \n",
       "387364               NaN          NaN      .         NaN       NaN   \n",
       "\n",
       "       family_num_level age1_group  income_v2  \n",
       "387363                3         50  300~399만원  \n",
       "387364                3         50  300~399만원  \n",
       "\n",
       "[2 rows x 27 columns]"
      ]
     },
     "execution_count": 6,
     "metadata": {},
     "output_type": "execute_result"
    }
   ],
   "source": [
    "# 기타 전부 대형마트 출신\n",
    "df[df['store_region']=='기타']"
   ]
  },
  {
   "cell_type": "code",
   "execution_count": 7,
   "id": "3245154e",
   "metadata": {},
   "outputs": [
    {
     "data": {
      "text/plain": [
       "경기    50403\n",
       "서울    32804\n",
       "인천     9281\n",
       "없음      903\n",
       "충남      207\n",
       "강원      170\n",
       "부산       84\n",
       "전남       75\n",
       "제주       72\n",
       "충북       69\n",
       "대전       65\n",
       "전북       57\n",
       "경북       55\n",
       "광주       28\n",
       "경남       27\n",
       "울산       25\n",
       "세종       18\n",
       "대구       18\n",
       "기타        2\n",
       "Name: store_region, dtype: int64"
      ]
     },
     "execution_count": 7,
     "metadata": {},
     "output_type": "execute_result"
    }
   ],
   "source": [
    "# 대형마트의 store_region 분포 살펴보기\n",
    "# 경기가 현저히 많음 즉, 기타를 경기로 바꾸기\n",
    "df_mart=df[df['type_channel_new']=='대형마트']\n",
    "df_mart['store_region'].value_counts()"
   ]
  },
  {
   "cell_type": "code",
   "execution_count": 8,
   "id": "a407cd54",
   "metadata": {},
   "outputs": [
    {
     "data": {
      "text/plain": [
       "경기     231214\n",
       "서울     174470\n",
       "인천      47653\n",
       "없음      44265\n",
       "온라인     25878\n",
       "강원        968\n",
       "충남        691\n",
       "부산        666\n",
       "제주        638\n",
       "경북        540\n",
       "충북        349\n",
       "전남        321\n",
       "전북        240\n",
       "경남        199\n",
       "대전        147\n",
       "광주        134\n",
       "울산        132\n",
       "대구         88\n",
       "세종         29\n",
       "Name: store_region, dtype: int64"
      ]
     },
     "execution_count": 8,
     "metadata": {},
     "output_type": "execute_result"
    }
   ],
   "source": [
    "# 기타를 모두 경기로 바꾸기\n",
    "df.loc[df['store_region']== '기타','store_region']='경기'\n",
    "df['store_region'].value_counts()"
   ]
  },
  {
   "cell_type": "markdown",
   "id": "2a10fd2e",
   "metadata": {},
   "source": [
    "### @ product (제품)"
   ]
  },
  {
   "cell_type": "markdown",
   "id": "2d4c3792",
   "metadata": {},
   "source": [
    "#### 제품 종류가 너무 다양하여 사용할지 의문"
   ]
  },
  {
   "cell_type": "code",
   "execution_count": 127,
   "id": "2d54d359",
   "metadata": {},
   "outputs": [
    {
     "data": {
      "text/plain": [
       "43674"
      ]
     },
     "execution_count": 127,
     "metadata": {},
     "output_type": "execute_result"
    }
   ],
   "source": [
    "df['product'].nunique()"
   ]
  },
  {
   "cell_type": "code",
   "execution_count": 128,
   "id": "3c9b680c",
   "metadata": {},
   "outputs": [
    {
     "data": {
      "text/plain": [
       "바나나          41482\n",
       "사과           36136\n",
       "귤            19269\n",
       "단감           14363\n",
       "복숭아          11224\n",
       "             ...  \n",
       "켐벨얼리             1\n",
       "배_바나나            1\n",
       "해찬사과_부사          1\n",
       "사과벌크_홍로_대        1\n",
       "스위트마운틴_수입        1\n",
       "Name: product, Length: 43674, dtype: int64"
      ]
     },
     "execution_count": 128,
     "metadata": {},
     "output_type": "execute_result"
    }
   ],
   "source": [
    "df['product'].value_counts()"
   ]
  },
  {
   "cell_type": "markdown",
   "id": "4c15ce64",
   "metadata": {},
   "source": [
    "### @ wide (제품(상단)))"
   ]
  },
  {
   "cell_type": "markdown",
   "id": "1829e288",
   "metadata": {},
   "source": [
    "#### 하나의 값만 존재/ 삭제 대상"
   ]
  },
  {
   "cell_type": "code",
   "execution_count": 129,
   "id": "b8c418cd",
   "metadata": {},
   "outputs": [
    {
     "data": {
      "text/plain": [
       "1"
      ]
     },
     "execution_count": 129,
     "metadata": {},
     "output_type": "execute_result"
    }
   ],
   "source": [
    "df['wide'].nunique()"
   ]
  },
  {
   "cell_type": "code",
   "execution_count": 130,
   "id": "c5d13edc",
   "metadata": {},
   "outputs": [
    {
     "data": {
      "text/plain": [
       "과일류    528622\n",
       "Name: wide, dtype: int64"
      ]
     },
     "execution_count": 130,
     "metadata": {},
     "output_type": "execute_result"
    }
   ],
   "source": [
    "df['wide'].value_counts()"
   ]
  },
  {
   "cell_type": "markdown",
   "id": "ab7bce79",
   "metadata": {},
   "source": [
    "### @ middle ( 제품 (중단))"
   ]
  },
  {
   "cell_type": "markdown",
   "id": "a08b76fa",
   "metadata": {},
   "source": [
    "#### 19종류로 사용하기 좋아보임"
   ]
  },
  {
   "cell_type": "code",
   "execution_count": 131,
   "id": "75aaa9fc",
   "metadata": {},
   "outputs": [
    {
     "data": {
      "text/plain": [
       "19"
      ]
     },
     "execution_count": 131,
     "metadata": {},
     "output_type": "execute_result"
    }
   ],
   "source": [
    "df['middle'].nunique()"
   ]
  },
  {
   "cell_type": "code",
   "execution_count": 132,
   "id": "d01ce245",
   "metadata": {},
   "outputs": [
    {
     "data": {
      "text/plain": [
       "바나나     112887\n",
       "사과       91884\n",
       "감귤       69556\n",
       "포도       49415\n",
       "복숭아      36588\n",
       "오렌지      23970\n",
       "배        22438\n",
       "단감       22361\n",
       "참다래      17161\n",
       "떫은감      14710\n",
       "자두       13550\n",
       "열대과일     12718\n",
       "기타과일     12362\n",
       "파인애플      8940\n",
       "체리        8024\n",
       "베리        6448\n",
       "레몬        3795\n",
       "매실        1618\n",
       "묶음과일       197\n",
       "Name: middle, dtype: int64"
      ]
     },
     "execution_count": 132,
     "metadata": {},
     "output_type": "execute_result"
    }
   ],
   "source": [
    "df['middle'].value_counts()"
   ]
  },
  {
   "cell_type": "code",
   "execution_count": 135,
   "id": "58d87dfc",
   "metadata": {},
   "outputs": [
    {
     "data": {
      "text/plain": [
       "<Axes: xlabel='middle', ylabel='count'>"
      ]
     },
     "execution_count": 135,
     "metadata": {},
     "output_type": "execute_result"
    },
    {
     "data": {
      "image/png": "[encoded data removed]",
      "text/plain": [
       "<Figure size 1200x400 with 1 Axes>"
      ]
     },
     "metadata": {},
     "output_type": "display_data"
    }
   ],
   "source": [
    "plt.figure(figsize=(12,4))\n",
    "sns.countplot(x=\"middle\",data=df)"
   ]
  },
  {
   "cell_type": "markdown",
   "id": "f54abdc4",
   "metadata": {},
   "source": [
    "### @ detail(제품(하단))"
   ]
  },
  {
   "cell_type": "markdown",
   "id": "e2bfa608",
   "metadata": {},
   "source": [
    "#### 총 59개로 고려해볼만함"
   ]
  },
  {
   "cell_type": "code",
   "execution_count": 137,
   "id": "b18c40b6",
   "metadata": {},
   "outputs": [
    {
     "data": {
      "text/plain": [
       "19"
      ]
     },
     "execution_count": 137,
     "metadata": {},
     "output_type": "execute_result"
    }
   ],
   "source": [
    "df['detail'].nunique()"
   ]
  },
  {
   "cell_type": "code",
   "execution_count": 139,
   "id": "576c00bb",
   "metadata": {},
   "outputs": [
    {
     "data": {
      "text/plain": [
       "일반바나나        112117\n",
       "기타사과          71732\n",
       "밀감            59518\n",
       "오렌지           23970\n",
       "단감            22361\n",
       "일반복숭아         20912\n",
       "기타배           17024\n",
       "기타포도          14135\n",
       "청포도           13824\n",
       "자두            13550\n",
       "후지            11430\n",
       "천도            11151\n",
       "파인애플           8940\n",
       "기타과일           8809\n",
       "체리             8024\n",
       "골드키위           8001\n",
       "홍시             7533\n",
       "거봉             6747\n",
       "캠벨얼리           6508\n",
       "블루베리           5640\n",
       "신고배            5414\n",
       "적포도            5309\n",
       "아오리            5020\n",
       "그린키위           4769\n",
       "기타감귤           4699\n",
       "한라봉            4462\n",
       "기타키위           4391\n",
       "기타열대과일         4223\n",
       "레몬             3795\n",
       "망고             3547\n",
       "홍로             3288\n",
       "황도             2974\n",
       "대봉             2945\n",
       "무화과            2497\n",
       "자몽             2485\n",
       "석류             2433\n",
       "머루포도_MBA_      2377\n",
       "일반떫은감          2020\n",
       "매실             1618\n",
       "백도             1486\n",
       "대봉시            1302\n",
       "반시              894\n",
       "기타바나나           770\n",
       "금귤              643\n",
       "기타베리            586\n",
       "델라웨어            414\n",
       "홍옥              414\n",
       "혼합과일            348\n",
       "오디              271\n",
       "유자              245\n",
       "청견              234\n",
       "복분자             222\n",
       "묶음과일            197\n",
       "모과              192\n",
       "세리단              98\n",
       "기타복숭아            65\n",
       "올리브              30\n",
       "기타감              16\n",
       "킹델라웨어             3\n",
       "Name: detail, dtype: int64"
      ]
     },
     "execution_count": 139,
     "metadata": {},
     "output_type": "execute_result"
    }
   ],
   "source": [
    "df['detail'].value_counts()"
   ]
  },
  {
   "cell_type": "code",
   "execution_count": 143,
   "id": "73edcc64",
   "metadata": {},
   "outputs": [
    {
     "data": {
      "text/plain": [
       "<Axes: xlabel='detail', ylabel='count'>"
      ]
     },
     "execution_count": 143,
     "metadata": {},
     "output_type": "execute_result"
    },
    {
     "data": {
      "image/png": "[encoded data removed]",
      "text/plain": [
       "<Figure size 1200x400 with 1 Axes>"
      ]
     },
     "metadata": {},
     "output_type": "display_data"
    }
   ],
   "source": [
    "plt.figure(figsize=(12,4))\n",
    "sns.countplot(x=\"detail\",data=df)"
   ]
  },
  {
   "cell_type": "markdown",
   "id": "e8ff4855",
   "metadata": {},
   "source": [
    "### @ purchase (구매액)"
   ]
  },
  {
   "cell_type": "markdown",
   "id": "2c3baf20",
   "metadata": {},
   "source": [
    "#### 종속변수로 사용"
   ]
  },
  {
   "cell_type": "code",
   "execution_count": 9,
   "id": "a74d9d40",
   "metadata": {},
   "outputs": [
    {
     "data": {
      "text/plain": [
       "count     528622.0\n",
       "mean        8196.3\n",
       "std        10325.4\n",
       "min            2.0\n",
       "25%         3500.0\n",
       "50%         5000.0\n",
       "75%        10000.0\n",
       "max      1200000.0\n",
       "Name: purchase, dtype: float64"
      ]
     },
     "execution_count": 9,
     "metadata": {},
     "output_type": "execute_result"
    }
   ],
   "source": [
    "round(df['purchase'].describe(),1)"
   ]
  },
  {
   "cell_type": "code",
   "execution_count": 10,
   "id": "e9b879ac",
   "metadata": {},
   "outputs": [
    {
     "data": {
      "text/plain": [
       "{'whiskers': [<matplotlib.lines.Line2D at 0x221fd8bdc50>,\n",
       "  <matplotlib.lines.Line2D at 0x221fd846a50>],\n",
       " 'caps': [<matplotlib.lines.Line2D at 0x221fd8bc250>,\n",
       "  <matplotlib.lines.Line2D at 0x221fd8bc350>],\n",
       " 'boxes': [<matplotlib.lines.Line2D at 0x221fd8bc190>],\n",
       " 'medians': [<matplotlib.lines.Line2D at 0x221fd971f90>],\n",
       " 'fliers': [<matplotlib.lines.Line2D at 0x221fd7e16d0>],\n",
       " 'means': []}"
      ]
     },
     "execution_count": 10,
     "metadata": {},
     "output_type": "execute_result"
    },
    {
     "data": {
      "image/png": "[encoded data removed]",
      "text/plain": [
       "<Figure size 400x1500 with 1 Axes>"
      ]
     },
     "metadata": {},
     "output_type": "display_data"
    }
   ],
   "source": [
    "plt.figure(figsize=(4,15))\n",
    "plt.boxplot(df['purchase'])"
   ]
  },
  {
   "cell_type": "code",
   "execution_count": 37,
   "id": "2a25b6a9",
   "metadata": {},
   "outputs": [
    {
     "data": {
      "text/html": [
       "<div>\n",
       "<style scoped>\n",
       "    .dataframe tbody tr th:only-of-type {\n",
       "        vertical-align: middle;\n",
       "    }\n",
       "\n",
       "    .dataframe tbody tr th {\n",
       "        vertical-align: top;\n",
       "    }\n",
       "\n",
       "    .dataframe thead th {\n",
       "        text-align: right;\n",
       "    }\n",
       "</style>\n",
       "<table border=\"1\" class=\"dataframe\">\n",
       "  <thead>\n",
       "    <tr style=\"text-align: right;\">\n",
       "      <th></th>\n",
       "      <th>panel_code</th>\n",
       "      <th>type_channel_new</th>\n",
       "      <th>store_region</th>\n",
       "      <th>middle</th>\n",
       "      <th>shop_day</th>\n",
       "      <th>family_num_level</th>\n",
       "      <th>income_v2</th>\n",
       "      <th>purchase</th>\n",
       "    </tr>\n",
       "  </thead>\n",
       "  <tbody>\n",
       "    <tr>\n",
       "      <th>119016</th>\n",
       "      <td>PN00000779</td>\n",
       "      <td>기타</td>\n",
       "      <td>없음</td>\n",
       "      <td>베리</td>\n",
       "      <td>2013-01-07</td>\n",
       "      <td>6</td>\n",
       "      <td>700만원 이상</td>\n",
       "      <td>1200000.0</td>\n",
       "    </tr>\n",
       "    <tr>\n",
       "      <th>349014</th>\n",
       "      <td>PN00000574</td>\n",
       "      <td>농가직거래</td>\n",
       "      <td>없음</td>\n",
       "      <td>감귤</td>\n",
       "      <td>2019-01-30</td>\n",
       "      <td>2</td>\n",
       "      <td>600~699만원</td>\n",
       "      <td>1000000.0</td>\n",
       "    </tr>\n",
       "    <tr>\n",
       "      <th>379915</th>\n",
       "      <td>PN00000574</td>\n",
       "      <td>농가직거래</td>\n",
       "      <td>없음</td>\n",
       "      <td>감귤</td>\n",
       "      <td>2020-01-20</td>\n",
       "      <td>2</td>\n",
       "      <td>700만원 이상</td>\n",
       "      <td>1000000.0</td>\n",
       "    </tr>\n",
       "    <tr>\n",
       "      <th>425475</th>\n",
       "      <td>PN00000379</td>\n",
       "      <td>농가직거래</td>\n",
       "      <td>없음</td>\n",
       "      <td>복숭아</td>\n",
       "      <td>2021-09-16</td>\n",
       "      <td>2</td>\n",
       "      <td>600~699만원</td>\n",
       "      <td>800000.0</td>\n",
       "    </tr>\n",
       "    <tr>\n",
       "      <th>124025</th>\n",
       "      <td>PN00000559</td>\n",
       "      <td>농가직거래</td>\n",
       "      <td>없음</td>\n",
       "      <td>베리</td>\n",
       "      <td>2013-03-26</td>\n",
       "      <td>3</td>\n",
       "      <td>500~599만원</td>\n",
       "      <td>792000.0</td>\n",
       "    </tr>\n",
       "    <tr>\n",
       "      <th>405319</th>\n",
       "      <td>PN20150399</td>\n",
       "      <td>슈퍼마켓</td>\n",
       "      <td>경기</td>\n",
       "      <td>떫은감</td>\n",
       "      <td>2020-11-14</td>\n",
       "      <td>3</td>\n",
       "      <td>700만원 이상</td>\n",
       "      <td>780000.0</td>\n",
       "    </tr>\n",
       "    <tr>\n",
       "      <th>425890</th>\n",
       "      <td>PN00000672</td>\n",
       "      <td>농가직거래</td>\n",
       "      <td>경북</td>\n",
       "      <td>사과</td>\n",
       "      <td>2021-09-15</td>\n",
       "      <td>3</td>\n",
       "      <td>700만원 이상</td>\n",
       "      <td>770000.0</td>\n",
       "    </tr>\n",
       "    <tr>\n",
       "      <th>435032</th>\n",
       "      <td>PN00000672</td>\n",
       "      <td>농가직거래</td>\n",
       "      <td>경북</td>\n",
       "      <td>사과</td>\n",
       "      <td>2022-01-26</td>\n",
       "      <td>3</td>\n",
       "      <td>700만원 이상</td>\n",
       "      <td>700000.0</td>\n",
       "    </tr>\n",
       "    <tr>\n",
       "      <th>399479</th>\n",
       "      <td>PN00001125</td>\n",
       "      <td>온라인몰</td>\n",
       "      <td>온라인</td>\n",
       "      <td>기타과일</td>\n",
       "      <td>2020-09-17</td>\n",
       "      <td>2</td>\n",
       "      <td>700만원 이상</td>\n",
       "      <td>695000.0</td>\n",
       "    </tr>\n",
       "    <tr>\n",
       "      <th>379987</th>\n",
       "      <td>PN00000672</td>\n",
       "      <td>농가직거래</td>\n",
       "      <td>경북</td>\n",
       "      <td>사과</td>\n",
       "      <td>2020-01-21</td>\n",
       "      <td>3</td>\n",
       "      <td>200~299만원</td>\n",
       "      <td>630000.0</td>\n",
       "    </tr>\n",
       "    <tr>\n",
       "      <th>425648</th>\n",
       "      <td>PN00000465</td>\n",
       "      <td>농가직거래</td>\n",
       "      <td>없음</td>\n",
       "      <td>사과</td>\n",
       "      <td>2021-09-01</td>\n",
       "      <td>2</td>\n",
       "      <td>700만원 이상</td>\n",
       "      <td>600000.0</td>\n",
       "    </tr>\n",
       "    <tr>\n",
       "      <th>351720</th>\n",
       "      <td>PN00000672</td>\n",
       "      <td>농가직거래</td>\n",
       "      <td>부산</td>\n",
       "      <td>사과</td>\n",
       "      <td>2019-02-02</td>\n",
       "      <td>3</td>\n",
       "      <td>700만원 이상</td>\n",
       "      <td>600000.0</td>\n",
       "    </tr>\n",
       "    <tr>\n",
       "      <th>411255</th>\n",
       "      <td>PN00000672</td>\n",
       "      <td>농가직거래</td>\n",
       "      <td>경북</td>\n",
       "      <td>사과</td>\n",
       "      <td>2021-02-02</td>\n",
       "      <td>3</td>\n",
       "      <td>700만원 이상</td>\n",
       "      <td>595000.0</td>\n",
       "    </tr>\n",
       "    <tr>\n",
       "      <th>434864</th>\n",
       "      <td>PN00000465</td>\n",
       "      <td>농가직거래</td>\n",
       "      <td>없음</td>\n",
       "      <td>사과</td>\n",
       "      <td>2022-01-23</td>\n",
       "      <td>2</td>\n",
       "      <td>600~699만원</td>\n",
       "      <td>550000.0</td>\n",
       "    </tr>\n",
       "    <tr>\n",
       "      <th>409741</th>\n",
       "      <td>PN00001125</td>\n",
       "      <td>온라인몰</td>\n",
       "      <td>온라인</td>\n",
       "      <td>감귤</td>\n",
       "      <td>2021-01-21</td>\n",
       "      <td>2</td>\n",
       "      <td>700만원 이상</td>\n",
       "      <td>549000.0</td>\n",
       "    </tr>\n",
       "    <tr>\n",
       "      <th>399585</th>\n",
       "      <td>PN00001181</td>\n",
       "      <td>농가직거래</td>\n",
       "      <td>없음</td>\n",
       "      <td>포도</td>\n",
       "      <td>2020-09-24</td>\n",
       "      <td>4</td>\n",
       "      <td>700만원 이상</td>\n",
       "      <td>520000.0</td>\n",
       "    </tr>\n",
       "    <tr>\n",
       "      <th>370021</th>\n",
       "      <td>PN00001181</td>\n",
       "      <td>농가직거래</td>\n",
       "      <td>없음</td>\n",
       "      <td>포도</td>\n",
       "      <td>2019-09-09</td>\n",
       "      <td>4</td>\n",
       "      <td>700만원 이상</td>\n",
       "      <td>520000.0</td>\n",
       "    </tr>\n",
       "    <tr>\n",
       "      <th>351913</th>\n",
       "      <td>PN00000847</td>\n",
       "      <td>전통시장</td>\n",
       "      <td>부산</td>\n",
       "      <td>배</td>\n",
       "      <td>2019-02-01</td>\n",
       "      <td>4</td>\n",
       "      <td>200~299만원</td>\n",
       "      <td>496000.0</td>\n",
       "    </tr>\n",
       "    <tr>\n",
       "      <th>512131</th>\n",
       "      <td>PN20210916</td>\n",
       "      <td>대형마트</td>\n",
       "      <td>경기</td>\n",
       "      <td>사과</td>\n",
       "      <td>2023-09-18</td>\n",
       "      <td>3</td>\n",
       "      <td>700만원 이상</td>\n",
       "      <td>495200.0</td>\n",
       "    </tr>\n",
       "    <tr>\n",
       "      <th>426247</th>\n",
       "      <td>PN00000957</td>\n",
       "      <td>농가직거래</td>\n",
       "      <td>없음</td>\n",
       "      <td>배</td>\n",
       "      <td>2021-09-13</td>\n",
       "      <td>2</td>\n",
       "      <td>400~499만원</td>\n",
       "      <td>490000.0</td>\n",
       "    </tr>\n",
       "  </tbody>\n",
       "</table>\n",
       "</div>"
      ],
      "text/plain": [
       "        panel_code type_channel_new store_region middle   shop_day  \\\n",
       "119016  PN00000779               기타           없음     베리 2013-01-07   \n",
       "349014  PN00000574            농가직거래           없음     감귤 2019-01-30   \n",
       "379915  PN00000574            농가직거래           없음     감귤 2020-01-20   \n",
       "425475  PN00000379            농가직거래           없음    복숭아 2021-09-16   \n",
       "124025  PN00000559            농가직거래           없음     베리 2013-03-26   \n",
       "405319  PN20150399             슈퍼마켓           경기    떫은감 2020-11-14   \n",
       "425890  PN00000672            농가직거래           경북     사과 2021-09-15   \n",
       "435032  PN00000672            농가직거래           경북     사과 2022-01-26   \n",
       "399479  PN00001125             온라인몰          온라인   기타과일 2020-09-17   \n",
       "379987  PN00000672            농가직거래           경북     사과 2020-01-21   \n",
       "425648  PN00000465            농가직거래           없음     사과 2021-09-01   \n",
       "351720  PN00000672            농가직거래           부산     사과 2019-02-02   \n",
       "411255  PN00000672            농가직거래           경북     사과 2021-02-02   \n",
       "434864  PN00000465            농가직거래           없음     사과 2022-01-23   \n",
       "409741  PN00001125             온라인몰          온라인     감귤 2021-01-21   \n",
       "399585  PN00001181            농가직거래           없음     포도 2020-09-24   \n",
       "370021  PN00001181            농가직거래           없음     포도 2019-09-09   \n",
       "351913  PN00000847             전통시장           부산      배 2019-02-01   \n",
       "512131  PN20210916             대형마트           경기     사과 2023-09-18   \n",
       "426247  PN00000957            농가직거래           없음      배 2021-09-13   \n",
       "\n",
       "        family_num_level  income_v2   purchase  \n",
       "119016                 6   700만원 이상  1200000.0  \n",
       "349014                 2  600~699만원  1000000.0  \n",
       "379915                 2   700만원 이상  1000000.0  \n",
       "425475                 2  600~699만원   800000.0  \n",
       "124025                 3  500~599만원   792000.0  \n",
       "405319                 3   700만원 이상   780000.0  \n",
       "425890                 3   700만원 이상   770000.0  \n",
       "435032                 3   700만원 이상   700000.0  \n",
       "399479                 2   700만원 이상   695000.0  \n",
       "379987                 3  200~299만원   630000.0  \n",
       "425648                 2   700만원 이상   600000.0  \n",
       "351720                 3   700만원 이상   600000.0  \n",
       "411255                 3   700만원 이상   595000.0  \n",
       "434864                 2  600~699만원   550000.0  \n",
       "409741                 2   700만원 이상   549000.0  \n",
       "399585                 4   700만원 이상   520000.0  \n",
       "370021                 4   700만원 이상   520000.0  \n",
       "351913                 4  200~299만원   496000.0  \n",
       "512131                 3   700만원 이상   495200.0  \n",
       "426247                 2  400~499만원   490000.0  "
      ]
     },
     "execution_count": 37,
     "metadata": {},
     "output_type": "execute_result"
    }
   ],
   "source": [
    "# 구매액이 큰 순서\n",
    "df_purc=df[['panel_code','type_channel_new','store_region','middle','shop_day','family_num_level','income_v2','purchase']]\n",
    "df_purc.sort_values('purchase',ascending=False).head(20)"
   ]
  },
  {
   "cell_type": "code",
   "execution_count": 38,
   "id": "88b13dd2",
   "metadata": {},
   "outputs": [
    {
     "data": {
      "text/html": [
       "<div>\n",
       "<style scoped>\n",
       "    .dataframe tbody tr th:only-of-type {\n",
       "        vertical-align: middle;\n",
       "    }\n",
       "\n",
       "    .dataframe tbody tr th {\n",
       "        vertical-align: top;\n",
       "    }\n",
       "\n",
       "    .dataframe thead th {\n",
       "        text-align: right;\n",
       "    }\n",
       "</style>\n",
       "<table border=\"1\" class=\"dataframe\">\n",
       "  <thead>\n",
       "    <tr style=\"text-align: right;\">\n",
       "      <th></th>\n",
       "      <th>panel_code</th>\n",
       "      <th>type_channel_new</th>\n",
       "      <th>store_region</th>\n",
       "      <th>middle</th>\n",
       "      <th>shop_day</th>\n",
       "      <th>family_num_level</th>\n",
       "      <th>income_v2</th>\n",
       "      <th>purchase</th>\n",
       "    </tr>\n",
       "  </thead>\n",
       "  <tbody>\n",
       "    <tr>\n",
       "      <th>190634</th>\n",
       "      <td>PN20150422</td>\n",
       "      <td>슈퍼마켓</td>\n",
       "      <td>경기</td>\n",
       "      <td>단감</td>\n",
       "      <td>2015-01-12</td>\n",
       "      <td>1</td>\n",
       "      <td>200만원 미만</td>\n",
       "      <td>2.0</td>\n",
       "    </tr>\n",
       "    <tr>\n",
       "      <th>308026</th>\n",
       "      <td>PN00000952</td>\n",
       "      <td>슈퍼마켓</td>\n",
       "      <td>서울</td>\n",
       "      <td>열대과일</td>\n",
       "      <td>2017-11-02</td>\n",
       "      <td>5</td>\n",
       "      <td>400~499만원</td>\n",
       "      <td>10.0</td>\n",
       "    </tr>\n",
       "    <tr>\n",
       "      <th>207190</th>\n",
       "      <td>PN00000172</td>\n",
       "      <td>전문점</td>\n",
       "      <td>경기</td>\n",
       "      <td>포도</td>\n",
       "      <td>2015-07-18</td>\n",
       "      <td>4</td>\n",
       "      <td>400~499만원</td>\n",
       "      <td>12.0</td>\n",
       "    </tr>\n",
       "    <tr>\n",
       "      <th>390647</th>\n",
       "      <td>PN00000370</td>\n",
       "      <td>슈퍼마켓</td>\n",
       "      <td>경기</td>\n",
       "      <td>복숭아</td>\n",
       "      <td>2020-06-12</td>\n",
       "      <td>7</td>\n",
       "      <td>600~699만원</td>\n",
       "      <td>20.0</td>\n",
       "    </tr>\n",
       "    <tr>\n",
       "      <th>459512</th>\n",
       "      <td>PN00001180</td>\n",
       "      <td>농가직거래</td>\n",
       "      <td>인천</td>\n",
       "      <td>복숭아</td>\n",
       "      <td>2022-08-07</td>\n",
       "      <td>3</td>\n",
       "      <td>700만원 이상</td>\n",
       "      <td>50.0</td>\n",
       "    </tr>\n",
       "    <tr>\n",
       "      <th>441573</th>\n",
       "      <td>PN20210904</td>\n",
       "      <td>온라인몰</td>\n",
       "      <td>온라인</td>\n",
       "      <td>체리</td>\n",
       "      <td>2022-02-09</td>\n",
       "      <td>1</td>\n",
       "      <td>300~399만원</td>\n",
       "      <td>100.0</td>\n",
       "    </tr>\n",
       "    <tr>\n",
       "      <th>448398</th>\n",
       "      <td>PN20210703</td>\n",
       "      <td>슈퍼마켓</td>\n",
       "      <td>서울</td>\n",
       "      <td>바나나</td>\n",
       "      <td>2022-04-20</td>\n",
       "      <td>1</td>\n",
       "      <td>300~399만원</td>\n",
       "      <td>100.0</td>\n",
       "    </tr>\n",
       "    <tr>\n",
       "      <th>346344</th>\n",
       "      <td>PN00000694</td>\n",
       "      <td>온라인몰</td>\n",
       "      <td>온라인</td>\n",
       "      <td>감귤</td>\n",
       "      <td>2018-12-18</td>\n",
       "      <td>4</td>\n",
       "      <td>400~499만원</td>\n",
       "      <td>100.0</td>\n",
       "    </tr>\n",
       "    <tr>\n",
       "      <th>519008</th>\n",
       "      <td>PN00001418</td>\n",
       "      <td>편의점</td>\n",
       "      <td>서울</td>\n",
       "      <td>바나나</td>\n",
       "      <td>2023-11-24</td>\n",
       "      <td>1</td>\n",
       "      <td>400~499만원</td>\n",
       "      <td>100.0</td>\n",
       "    </tr>\n",
       "    <tr>\n",
       "      <th>370908</th>\n",
       "      <td>PN20150776</td>\n",
       "      <td>슈퍼마켓</td>\n",
       "      <td>서울</td>\n",
       "      <td>사과</td>\n",
       "      <td>2019-09-06</td>\n",
       "      <td>2</td>\n",
       "      <td>300~399만원</td>\n",
       "      <td>100.0</td>\n",
       "    </tr>\n",
       "  </tbody>\n",
       "</table>\n",
       "</div>"
      ],
      "text/plain": [
       "        panel_code type_channel_new store_region middle   shop_day  \\\n",
       "190634  PN20150422             슈퍼마켓           경기     단감 2015-01-12   \n",
       "308026  PN00000952             슈퍼마켓           서울   열대과일 2017-11-02   \n",
       "207190  PN00000172              전문점           경기     포도 2015-07-18   \n",
       "390647  PN00000370             슈퍼마켓           경기    복숭아 2020-06-12   \n",
       "459512  PN00001180            농가직거래           인천    복숭아 2022-08-07   \n",
       "441573  PN20210904             온라인몰          온라인     체리 2022-02-09   \n",
       "448398  PN20210703             슈퍼마켓           서울    바나나 2022-04-20   \n",
       "346344  PN00000694             온라인몰          온라인     감귤 2018-12-18   \n",
       "519008  PN00001418              편의점           서울    바나나 2023-11-24   \n",
       "370908  PN20150776             슈퍼마켓           서울     사과 2019-09-06   \n",
       "\n",
       "        family_num_level  income_v2  purchase  \n",
       "190634                 1   200만원 미만       2.0  \n",
       "308026                 5  400~499만원      10.0  \n",
       "207190                 4  400~499만원      12.0  \n",
       "390647                 7  600~699만원      20.0  \n",
       "459512                 3   700만원 이상      50.0  \n",
       "441573                 1  300~399만원     100.0  \n",
       "448398                 1  300~399만원     100.0  \n",
       "346344                 4  400~499만원     100.0  \n",
       "519008                 1  400~499만원     100.0  \n",
       "370908                 2  300~399만원     100.0  "
      ]
     },
     "execution_count": 38,
     "metadata": {},
     "output_type": "execute_result"
    }
   ],
   "source": [
    "# 구매액이 작은 순서\n",
    "df_purc.sort_values('purchase',ascending=True).head(10)"
   ]
  },
  {
   "cell_type": "code",
   "execution_count": 39,
   "id": "60ca9b25",
   "metadata": {},
   "outputs": [
    {
     "data": {
      "text/plain": [
       "panel_code          132416\n",
       "type_channel_new    132416\n",
       "store_region        132416\n",
       "middle              132416\n",
       "shop_day            132416\n",
       "family_num_level    132416\n",
       "income_v2           132416\n",
       "purchase            132416\n",
       "dtype: int64"
      ]
     },
     "execution_count": 39,
     "metadata": {},
     "output_type": "execute_result"
    }
   ],
   "source": [
    "# 10000원 이상의 행수\n",
    "df_purc[df_purc['purchase']>=10000].count()"
   ]
  },
  {
   "cell_type": "code",
   "execution_count": 35,
   "id": "87e74301",
   "metadata": {},
   "outputs": [
    {
     "data": {
      "text/plain": [
       "panel_code          15175\n",
       "type_channel_new    15175\n",
       "store_region        15175\n",
       "middle              15175\n",
       "shop_day            15175\n",
       "family_num_level    15175\n",
       "purchase            15175\n",
       "dtype: int64"
      ]
     },
     "execution_count": 35,
     "metadata": {},
     "output_type": "execute_result"
    }
   ],
   "source": [
    "# 1500원 이하의 행수\n",
    "df_purc[df_purc['purchase']<=1500].count()"
   ]
  },
  {
   "cell_type": "markdown",
   "id": "f7e0a884",
   "metadata": {},
   "source": [
    "### @ family_num_level (가족구성원 수)"
   ]
  },
  {
   "cell_type": "code",
   "execution_count": 155,
   "id": "0da14232",
   "metadata": {},
   "outputs": [
    {
     "data": {
      "text/plain": [
       "7"
      ]
     },
     "execution_count": 155,
     "metadata": {},
     "output_type": "execute_result"
    }
   ],
   "source": [
    "df['family_num_level'].nunique()"
   ]
  },
  {
   "cell_type": "code",
   "execution_count": 156,
   "id": "34684c4d",
   "metadata": {},
   "outputs": [
    {
     "data": {
      "text/plain": [
       "4    207784\n",
       "3    142925\n",
       "2     88481\n",
       "5     40338\n",
       "1     35737\n",
       "6     13318\n",
       "7        39\n",
       "Name: family_num_level, dtype: int64"
      ]
     },
     "execution_count": 156,
     "metadata": {},
     "output_type": "execute_result"
    }
   ],
   "source": [
    "df['family_num_level'].value_counts()"
   ]
  },
  {
   "cell_type": "code",
   "execution_count": 157,
   "id": "43fd14b9",
   "metadata": {},
   "outputs": [
    {
     "data": {
      "text/plain": [
       "<Axes: xlabel='family_num_level', ylabel='count'>"
      ]
     },
     "execution_count": 157,
     "metadata": {},
     "output_type": "execute_result"
    },
    {
     "data": {
      "image/png": "[encoded data removed]",
      "text/plain": [
       "<Figure size 640x480 with 1 Axes>"
      ]
     },
     "metadata": {},
     "output_type": "display_data"
    }
   ],
   "source": [
    "sns.countplot(x=\"family_num_level\",data=df)"
   ]
  },
  {
   "cell_type": "markdown",
   "id": "e5a38f66",
   "metadata": {},
   "source": [
    "### @ age_group (나이 그룹)"
   ]
  },
  {
   "cell_type": "code",
   "execution_count": 159,
   "id": "d779f1f4",
   "metadata": {},
   "outputs": [
    {
     "data": {
      "text/plain": [
       "7"
      ]
     },
     "execution_count": 159,
     "metadata": {},
     "output_type": "execute_result"
    }
   ],
   "source": [
    "df['age1_group'].nunique()"
   ]
  },
  {
   "cell_type": "code",
   "execution_count": 161,
   "id": "a3e52505",
   "metadata": {},
   "outputs": [
    {
     "data": {
      "text/plain": [
       "50    175346\n",
       "40    171727\n",
       "60    107183\n",
       "30     66825\n",
       "70      6125\n",
       "20      1310\n",
       "80       106\n",
       "Name: age1_group, dtype: int64"
      ]
     },
     "execution_count": 161,
     "metadata": {},
     "output_type": "execute_result"
    }
   ],
   "source": [
    "df['age1_group'].value_counts()"
   ]
  },
  {
   "cell_type": "code",
   "execution_count": 162,
   "id": "0213d4ea",
   "metadata": {},
   "outputs": [
    {
     "data": {
      "text/plain": [
       "<Axes: xlabel='age1_group', ylabel='count'>"
      ]
     },
     "execution_count": 162,
     "metadata": {},
     "output_type": "execute_result"
    },
    {
     "data": {
      "image/png": "[encoded data removed]",
      "text/plain": [
       "<Figure size 640x480 with 1 Axes>"
      ]
     },
     "metadata": {},
     "output_type": "display_data"
    }
   ],
   "source": [
    "sns.countplot(x=\"age1_group\",data=df)"
   ]
  },
  {
   "cell_type": "markdown",
   "id": "c381f33f",
   "metadata": {},
   "source": [
    "### @ income (가계 수입)"
   ]
  },
  {
   "cell_type": "code",
   "execution_count": 165,
   "id": "d72f7bc9",
   "metadata": {},
   "outputs": [
    {
     "data": {
      "text/plain": [
       "7"
      ]
     },
     "execution_count": 165,
     "metadata": {},
     "output_type": "execute_result"
    }
   ],
   "source": [
    "df['income_v2'].nunique()"
   ]
  },
  {
   "cell_type": "code",
   "execution_count": 166,
   "id": "f54ba884",
   "metadata": {},
   "outputs": [
    {
     "data": {
      "text/plain": [
       "300~399만원    100486\n",
       "700만원 이상      93659\n",
       "400~499만원     90407\n",
       "200~299만원     74547\n",
       "500~599만원     66492\n",
       "200만원 미만      58839\n",
       "600~699만원     44192\n",
       "Name: income_v2, dtype: int64"
      ]
     },
     "execution_count": 166,
     "metadata": {},
     "output_type": "execute_result"
    }
   ],
   "source": [
    "df['income_v2'].value_counts()"
   ]
  },
  {
   "cell_type": "code",
   "execution_count": 168,
   "id": "70f35df5",
   "metadata": {},
   "outputs": [
    {
     "data": {
      "text/plain": [
       "<Axes: xlabel='income_v2', ylabel='count'>"
      ]
     },
     "execution_count": 168,
     "metadata": {},
     "output_type": "execute_result"
    },
    {
     "data": {
      "image/png": "[encoded data removed]",
      "text/plain": [
       "<Figure size 1200x400 with 1 Axes>"
      ]
     },
     "metadata": {},
     "output_type": "display_data"
    }
   ],
   "source": [
    "plt.figure(figsize=(12,4))\n",
    "sns.countplot(x=\"income_v2\",data=df)"
   ]
  },
  {
   "cell_type": "code",
   "execution_count": null,
   "id": "8d45aef0",
   "metadata": {},
   "outputs": [],
   "source": []
  }
 ],
 "metadata": {
  "kernelspec": {
   "display_name": "Python 3 (ipykernel)",
   "language": "python",
   "name": "python3"
  },
  "language_info": {
   "codemirror_mode": {
    "name": "ipython",
    "version": 3
   },
   "file_extension": ".py",
   "mimetype": "text/x-python",
   "name": "python",
   "nbconvert_exporter": "python",
   "pygments_lexer": "ipython3",
   "version": "3.11.3"
  }
 },
 "nbformat": 4,
 "nbformat_minor": 5
}
