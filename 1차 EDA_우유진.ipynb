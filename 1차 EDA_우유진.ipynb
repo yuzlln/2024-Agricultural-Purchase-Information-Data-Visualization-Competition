{
 "cells": [
  {
   "cell_type": "code",
   "execution_count": 171,
   "metadata": {},
   "outputs": [],
   "source": [
    "import pandas as pd\n",
    "import numpy as np\n",
    "import seaborn as sns\n",
    "import matplotlib.pyplot as plt\n",
    "%matplotlib inline\n",
    "\n",
    "import warnings\n",
    "warnings.filterwarnings('ignore') # 경고 메시지 무시"
   ]
  },
  {
   "cell_type": "code",
   "execution_count": 172,
   "metadata": {},
   "outputs": [],
   "source": [
    "# 한글 폰트 설정\n",
    "import os\n",
    "os.name\n",
    "\n",
    "# 한글 폰트 설정\n",
    "import os\n",
    "if os.name == 'posix' :\n",
    "    plt.rc('font', family='AppleGothic')    # 맥\n",
    "else:\n",
    "    plt.rc('font', family='Malgun Gothic')  # 윈도우\n",
    "\n",
    "# 마이너스 폰트 깨지는 문제애 대한 대처\n",
    "plt.rc('axes', unicode_minus=False)\n",
    "\n",
    "# 레티나 설정을 해주면 글씨가 더 선명해짐\n",
    "%config InlineBackend.figure_font = 'retina'"
   ]
  },
  {
   "cell_type": "code",
   "execution_count": 173,
   "metadata": {},
   "outputs": [
    {
     "name": "stdout",
     "output_type": "stream",
     "text": [
      "파일 인코딩: EUC-KR\n",
      "(538382, 49)\n"
     ]
    },
    {
     "data": {
      "text/html": [
       "<div>\n",
       "<style scoped>\n",
       "    .dataframe tbody tr th:only-of-type {\n",
       "        vertical-align: middle;\n",
       "    }\n",
       "\n",
       "    .dataframe tbody tr th {\n",
       "        vertical-align: top;\n",
       "    }\n",
       "\n",
       "    .dataframe thead th {\n",
       "        text-align: right;\n",
       "    }\n",
       "</style>\n",
       "<table border=\"1\" class=\"dataframe\">\n",
       "  <thead>\n",
       "    <tr style=\"text-align: right;\">\n",
       "      <th></th>\n",
       "      <th>year</th>\n",
       "      <th>month</th>\n",
       "      <th>panel_code</th>\n",
       "      <th>panel_code_new</th>\n",
       "      <th>type_method</th>\n",
       "      <th>type_method_etc</th>\n",
       "      <th>type_channel_new</th>\n",
       "      <th>type_channel</th>\n",
       "      <th>type_channel_etc</th>\n",
       "      <th>shop_day</th>\n",
       "      <th>...</th>\n",
       "      <th>retail_new</th>\n",
       "      <th>shop_time</th>\n",
       "      <th>take_out</th>\n",
       "      <th>transport_pre</th>\n",
       "      <th>transport_post</th>\n",
       "      <th>panel_type</th>\n",
       "      <th>edit</th>\n",
       "      <th>family_num_level</th>\n",
       "      <th>age1_group</th>\n",
       "      <th>income_v2</th>\n",
       "    </tr>\n",
       "  </thead>\n",
       "  <tbody>\n",
       "    <tr>\n",
       "      <th>0</th>\n",
       "      <td>2010</td>\n",
       "      <td>1</td>\n",
       "      <td>PN00000001</td>\n",
       "      <td>A20000001</td>\n",
       "      <td>NaN</td>\n",
       "      <td>NaN</td>\n",
       "      <td>슈퍼마켓</td>\n",
       "      <td>기업형슈퍼마켓</td>\n",
       "      <td>NaN</td>\n",
       "      <td>2010-01-19</td>\n",
       "      <td>...</td>\n",
       "      <td>기업형슈퍼마켓</td>\n",
       "      <td>NaN</td>\n",
       "      <td>0</td>\n",
       "      <td>NaN</td>\n",
       "      <td>NaN</td>\n",
       "      <td>0.0</td>\n",
       "      <td>0</td>\n",
       "      <td>3</td>\n",
       "      <td>40</td>\n",
       "      <td>200만원 미만</td>\n",
       "    </tr>\n",
       "    <tr>\n",
       "      <th>1</th>\n",
       "      <td>2010</td>\n",
       "      <td>1</td>\n",
       "      <td>PN00000001</td>\n",
       "      <td>A20000001</td>\n",
       "      <td>NaN</td>\n",
       "      <td>NaN</td>\n",
       "      <td>슈퍼마켓</td>\n",
       "      <td>슈퍼마켓</td>\n",
       "      <td>NaN</td>\n",
       "      <td>2010-01-18</td>\n",
       "      <td>...</td>\n",
       "      <td>슈퍼마켓</td>\n",
       "      <td>NaN</td>\n",
       "      <td>0</td>\n",
       "      <td>NaN</td>\n",
       "      <td>NaN</td>\n",
       "      <td>0.0</td>\n",
       "      <td>0</td>\n",
       "      <td>3</td>\n",
       "      <td>40</td>\n",
       "      <td>200만원 미만</td>\n",
       "    </tr>\n",
       "    <tr>\n",
       "      <th>2</th>\n",
       "      <td>2010</td>\n",
       "      <td>1</td>\n",
       "      <td>PN00000001</td>\n",
       "      <td>A20000001</td>\n",
       "      <td>NaN</td>\n",
       "      <td>NaN</td>\n",
       "      <td>슈퍼마켓</td>\n",
       "      <td>슈퍼마켓</td>\n",
       "      <td>NaN</td>\n",
       "      <td>2010-01-27</td>\n",
       "      <td>...</td>\n",
       "      <td>슈퍼마켓</td>\n",
       "      <td>NaN</td>\n",
       "      <td>0</td>\n",
       "      <td>NaN</td>\n",
       "      <td>NaN</td>\n",
       "      <td>0.0</td>\n",
       "      <td>0</td>\n",
       "      <td>3</td>\n",
       "      <td>40</td>\n",
       "      <td>200만원 미만</td>\n",
       "    </tr>\n",
       "  </tbody>\n",
       "</table>\n",
       "<p>3 rows × 49 columns</p>\n",
       "</div>"
      ],
      "text/plain": [
       "   year  month  panel_code panel_code_new type_method type_method_etc  \\\n",
       "0  2010      1  PN00000001      A20000001         NaN             NaN   \n",
       "1  2010      1  PN00000001      A20000001         NaN             NaN   \n",
       "2  2010      1  PN00000001      A20000001         NaN             NaN   \n",
       "\n",
       "  type_channel_new type_channel type_channel_etc    shop_day  ... retail_new  \\\n",
       "0             슈퍼마켓      기업형슈퍼마켓              NaN  2010-01-19  ...    기업형슈퍼마켓   \n",
       "1             슈퍼마켓         슈퍼마켓              NaN  2010-01-18  ...       슈퍼마켓   \n",
       "2             슈퍼마켓         슈퍼마켓              NaN  2010-01-27  ...       슈퍼마켓   \n",
       "\n",
       "  shop_time take_out transport_pre transport_post panel_type edit  \\\n",
       "0       NaN        0           NaN            NaN        0.0    0   \n",
       "1       NaN        0           NaN            NaN        0.0    0   \n",
       "2       NaN        0           NaN            NaN        0.0    0   \n",
       "\n",
       "  family_num_level age1_group income_v2  \n",
       "0                3         40  200만원 미만  \n",
       "1                3         40  200만원 미만  \n",
       "2                3         40  200만원 미만  \n",
       "\n",
       "[3 rows x 49 columns]"
      ]
     },
     "execution_count": 173,
     "metadata": {},
     "output_type": "execute_result"
    }
   ],
   "source": [
    "## 데이터 불러오기\n",
    "import chardet\n",
    "\n",
    "# 파일의 인코딩 감지\n",
    "with open(\"C:/Users/yuzln/Desktop/농식품 구매정보 데이터 시각화/원본 파일/fruits1023.csv\", 'rb') as file:\n",
    "    raw_data = file.read(10000)  # 파일의 처음 10,000 바이트 읽기\n",
    "    result = chardet.detect(raw_data)\n",
    "\n",
    "    encoding = result['encoding']\n",
    "    print(f\"파일 인코딩: {encoding}\")\n",
    "\n",
    "\n",
    "# 감지된 인코딩으로 파일 읽기\n",
    "df = pd.read_csv(\"C:/Users/yuzln/Desktop/농식품 구매정보 데이터 시각화/원본 파일/fruits1023.csv\", encoding=encoding, encoding_errors='ignore')\n",
    "\n",
    "print(df.shape)\n",
    "df.head(3)"
   ]
  },
  {
   "cell_type": "markdown",
   "metadata": {},
   "source": [
    "# 1. 데이터 확인"
   ]
  },
  {
   "cell_type": "code",
   "execution_count": 174,
   "metadata": {},
   "outputs": [
    {
     "name": "stdout",
     "output_type": "stream",
     "text": [
      "<class 'pandas.core.frame.DataFrame'>\n",
      "RangeIndex: 538382 entries, 0 to 538381\n",
      "Data columns (total 49 columns):\n",
      " #   Column            Non-Null Count   Dtype  \n",
      "---  ------            --------------   -----  \n",
      " 0   year              538382 non-null  int64  \n",
      " 1   month             538382 non-null  int64  \n",
      " 2   panel_code        538382 non-null  object \n",
      " 3   panel_code_new    491529 non-null  object \n",
      " 4   type_method       47699 non-null   object \n",
      " 5   type_method_etc   18 non-null      object \n",
      " 6   type_channel_new  538382 non-null  object \n",
      " 7   type_channel      530370 non-null  object \n",
      " 8   type_channel_etc  33 non-null      object \n",
      " 9   shop_day          538382 non-null  object \n",
      " 10  shop_week         538382 non-null  object \n",
      " 11  store             538353 non-null  object \n",
      " 12  store_code        35906 non-null   object \n",
      " 13  store_region      534267 non-null  object \n",
      " 14  product           538381 non-null  object \n",
      " 15  product_code      123707 non-null  object \n",
      " 16  wide              538382 non-null  object \n",
      " 17  middle            538382 non-null  object \n",
      " 18  detail            538382 non-null  object \n",
      " 19  country           23821 non-null   object \n",
      " 20  purchase          538382 non-null  float64\n",
      " 21  discount          333265 non-null  object \n",
      " 22  quantity          538382 non-null  object \n",
      " 23  q_unit            429619 non-null  object \n",
      " 24  weight_quantity   523671 non-null  object \n",
      " 25  w_q_unit          160988 non-null  object \n",
      " 26  multi_quantity    502330 non-null  object \n",
      " 27  m_unit            112491 non-null  object \n",
      " 28  w_multi_quantity  80969 non-null   object \n",
      " 29  w_multi_unit      33261 non-null   object \n",
      " 30  w_q_kg            437922 non-null  object \n",
      " 31  w_q_kg_unit       96541 non-null   object \n",
      " 32  unit_cost         105220 non-null  object \n",
      " 33  special_diary     25481 non-null   object \n",
      " 34  bill              55161 non-null   object \n",
      " 35  bundle            35396 non-null   object \n",
      " 36  payment           1409 non-null    object \n",
      " 37  retail            0 non-null       float64\n",
      " 38  retail_8          440731 non-null  object \n",
      " 39  retail_new        440731 non-null  object \n",
      " 40  shop_time         366184 non-null  object \n",
      " 41  take_out          440731 non-null  object \n",
      " 42  transport_pre     0 non-null       float64\n",
      " 43  transport_post    0 non-null       float64\n",
      " 44  panel_type        538369 non-null  float64\n",
      " 45  edit              538382 non-null  object \n",
      " 46  family_num_level  538382 non-null  int64  \n",
      " 47  age1_group        538382 non-null  int64  \n",
      " 48  income_v2         538382 non-null  object \n",
      "dtypes: float64(5), int64(4), object(40)\n",
      "memory usage: 201.3+ MB\n"
     ]
    }
   ],
   "source": [
    "# 변수 기본 정보 \n",
    "df.info()"
   ]
  },
  {
   "cell_type": "code",
   "execution_count": 175,
   "metadata": {},
   "outputs": [
    {
     "data": {
      "text/plain": [
       "year                     0\n",
       "month                    0\n",
       "panel_code               0\n",
       "panel_code_new       46853\n",
       "type_method         490683\n",
       "type_method_etc     538364\n",
       "type_channel_new         0\n",
       "type_channel          8012\n",
       "type_channel_etc    538349\n",
       "shop_day                 0\n",
       "shop_week                0\n",
       "store                   29\n",
       "store_code          502476\n",
       "store_region          4115\n",
       "product                  1\n",
       "product_code        414675\n",
       "wide                     0\n",
       "middle                   0\n",
       "detail                   0\n",
       "country             514561\n",
       "purchase                 0\n",
       "discount            205117\n",
       "quantity                 0\n",
       "q_unit              108763\n",
       "weight_quantity      14711\n",
       "w_q_unit            377394\n",
       "multi_quantity       36052\n",
       "m_unit              425891\n",
       "w_multi_quantity    457413\n",
       "w_multi_unit        505121\n",
       "w_q_kg              100460\n",
       "w_q_kg_unit         441841\n",
       "unit_cost           433162\n",
       "special_diary       512901\n",
       "bill                483221\n",
       "bundle              502986\n",
       "payment             536973\n",
       "retail              538382\n",
       "retail_8             97651\n",
       "retail_new           97651\n",
       "shop_time           172198\n",
       "take_out             97651\n",
       "transport_pre       538382\n",
       "transport_post      538382\n",
       "panel_type              13\n",
       "edit                     0\n",
       "family_num_level         0\n",
       "age1_group               0\n",
       "income_v2                0\n",
       "dtype: int64"
      ]
     },
     "execution_count": 175,
     "metadata": {},
     "output_type": "execute_result"
    }
   ],
   "source": [
    "# 결측치 확인\n",
    "df.isnull().sum()"
   ]
  },
  {
   "cell_type": "code",
   "execution_count": 176,
   "metadata": {},
   "outputs": [
    {
     "data": {
      "text/plain": [
       "year                0.000000\n",
       "month               0.000000\n",
       "panel_code          0.000000\n",
       "panel_code_new      0.087026\n",
       "type_method         0.911403\n",
       "type_method_etc     0.999967\n",
       "type_channel_new    0.000000\n",
       "type_channel        0.014882\n",
       "type_channel_etc    0.999939\n",
       "shop_day            0.000000\n",
       "shop_week           0.000000\n",
       "store               0.000054\n",
       "store_code          0.933308\n",
       "store_region        0.007643\n",
       "product             0.000002\n",
       "product_code        0.770224\n",
       "wide                0.000000\n",
       "middle              0.000000\n",
       "detail              0.000000\n",
       "country             0.955754\n",
       "purchase            0.000000\n",
       "discount            0.380988\n",
       "quantity            0.000000\n",
       "q_unit              0.202018\n",
       "weight_quantity     0.027324\n",
       "w_q_unit            0.700978\n",
       "multi_quantity      0.066964\n",
       "m_unit              0.791057\n",
       "w_multi_quantity    0.849607\n",
       "w_multi_unit        0.938220\n",
       "w_q_kg              0.186596\n",
       "w_q_kg_unit         0.820683\n",
       "unit_cost           0.804563\n",
       "special_diary       0.952671\n",
       "bill                0.897543\n",
       "bundle              0.934255\n",
       "payment             0.997383\n",
       "retail              1.000000\n",
       "retail_8            0.181379\n",
       "retail_new          0.181379\n",
       "shop_time           0.319844\n",
       "take_out            0.181379\n",
       "transport_pre       1.000000\n",
       "transport_post      1.000000\n",
       "panel_type          0.000024\n",
       "edit                0.000000\n",
       "family_num_level    0.000000\n",
       "age1_group          0.000000\n",
       "income_v2           0.000000\n",
       "dtype: float64"
      ]
     },
     "execution_count": 176,
     "metadata": {},
     "output_type": "execute_result"
    }
   ],
   "source": [
    "# 결측치 비율\n",
    "df.isnull().sum() / len(df)"
   ]
  },
  {
   "cell_type": "markdown",
   "metadata": {},
   "source": [
    "## 1.1 결측치 처리"
   ]
  },
  {
   "cell_type": "code",
   "execution_count": 177,
   "metadata": {},
   "outputs": [
    {
     "name": "stdout",
     "output_type": "stream",
     "text": [
      "결측치 비율이 0.8 이상인 칼럼의 개수 : 16\n",
      "----------------------------------------\n",
      "(538382, 33)\n"
     ]
    },
    {
     "data": {
      "text/html": [
       "<div>\n",
       "<style scoped>\n",
       "    .dataframe tbody tr th:only-of-type {\n",
       "        vertical-align: middle;\n",
       "    }\n",
       "\n",
       "    .dataframe tbody tr th {\n",
       "        vertical-align: top;\n",
       "    }\n",
       "\n",
       "    .dataframe thead th {\n",
       "        text-align: right;\n",
       "    }\n",
       "</style>\n",
       "<table border=\"1\" class=\"dataframe\">\n",
       "  <thead>\n",
       "    <tr style=\"text-align: right;\">\n",
       "      <th></th>\n",
       "      <th>year</th>\n",
       "      <th>month</th>\n",
       "      <th>panel_code</th>\n",
       "      <th>panel_code_new</th>\n",
       "      <th>type_channel_new</th>\n",
       "      <th>type_channel</th>\n",
       "      <th>shop_day</th>\n",
       "      <th>shop_week</th>\n",
       "      <th>store</th>\n",
       "      <th>store_region</th>\n",
       "      <th>...</th>\n",
       "      <th>w_q_kg</th>\n",
       "      <th>retail_8</th>\n",
       "      <th>retail_new</th>\n",
       "      <th>shop_time</th>\n",
       "      <th>take_out</th>\n",
       "      <th>panel_type</th>\n",
       "      <th>edit</th>\n",
       "      <th>family_num_level</th>\n",
       "      <th>age1_group</th>\n",
       "      <th>income_v2</th>\n",
       "    </tr>\n",
       "  </thead>\n",
       "  <tbody>\n",
       "    <tr>\n",
       "      <th>0</th>\n",
       "      <td>2010</td>\n",
       "      <td>1</td>\n",
       "      <td>PN00000001</td>\n",
       "      <td>A20000001</td>\n",
       "      <td>슈퍼마켓</td>\n",
       "      <td>기업형슈퍼마켓</td>\n",
       "      <td>2010-01-19</td>\n",
       "      <td>3</td>\n",
       "      <td>하나로클럽고양점</td>\n",
       "      <td>경기</td>\n",
       "      <td>...</td>\n",
       "      <td>.</td>\n",
       "      <td>3슈퍼마켓</td>\n",
       "      <td>기업형슈퍼마켓</td>\n",
       "      <td>NaN</td>\n",
       "      <td>0</td>\n",
       "      <td>0.0</td>\n",
       "      <td>0</td>\n",
       "      <td>3</td>\n",
       "      <td>40</td>\n",
       "      <td>200만원 미만</td>\n",
       "    </tr>\n",
       "    <tr>\n",
       "      <th>1</th>\n",
       "      <td>2010</td>\n",
       "      <td>1</td>\n",
       "      <td>PN00000001</td>\n",
       "      <td>A20000001</td>\n",
       "      <td>슈퍼마켓</td>\n",
       "      <td>슈퍼마켓</td>\n",
       "      <td>2010-01-18</td>\n",
       "      <td>2</td>\n",
       "      <td>소형슈퍼마켓</td>\n",
       "      <td>경기</td>\n",
       "      <td>...</td>\n",
       "      <td>.</td>\n",
       "      <td>3슈퍼마켓</td>\n",
       "      <td>슈퍼마켓</td>\n",
       "      <td>NaN</td>\n",
       "      <td>0</td>\n",
       "      <td>0.0</td>\n",
       "      <td>0</td>\n",
       "      <td>3</td>\n",
       "      <td>40</td>\n",
       "      <td>200만원 미만</td>\n",
       "    </tr>\n",
       "    <tr>\n",
       "      <th>2</th>\n",
       "      <td>2010</td>\n",
       "      <td>1</td>\n",
       "      <td>PN00000001</td>\n",
       "      <td>A20000001</td>\n",
       "      <td>슈퍼마켓</td>\n",
       "      <td>슈퍼마켓</td>\n",
       "      <td>2010-01-27</td>\n",
       "      <td>4</td>\n",
       "      <td>소형슈퍼마켓</td>\n",
       "      <td>경기</td>\n",
       "      <td>...</td>\n",
       "      <td>5</td>\n",
       "      <td>3슈퍼마켓</td>\n",
       "      <td>슈퍼마켓</td>\n",
       "      <td>NaN</td>\n",
       "      <td>0</td>\n",
       "      <td>0.0</td>\n",
       "      <td>0</td>\n",
       "      <td>3</td>\n",
       "      <td>40</td>\n",
       "      <td>200만원 미만</td>\n",
       "    </tr>\n",
       "  </tbody>\n",
       "</table>\n",
       "<p>3 rows × 33 columns</p>\n",
       "</div>"
      ],
      "text/plain": [
       "   year  month  panel_code panel_code_new type_channel_new type_channel  \\\n",
       "0  2010      1  PN00000001      A20000001             슈퍼마켓      기업형슈퍼마켓   \n",
       "1  2010      1  PN00000001      A20000001             슈퍼마켓         슈퍼마켓   \n",
       "2  2010      1  PN00000001      A20000001             슈퍼마켓         슈퍼마켓   \n",
       "\n",
       "     shop_day shop_week     store store_region  ... w_q_kg retail_8  \\\n",
       "0  2010-01-19         3  하나로클럽고양점           경기  ...      .    3슈퍼마켓   \n",
       "1  2010-01-18         2    소형슈퍼마켓           경기  ...      .    3슈퍼마켓   \n",
       "2  2010-01-27         4    소형슈퍼마켓           경기  ...      5    3슈퍼마켓   \n",
       "\n",
       "  retail_new shop_time take_out  panel_type edit family_num_level age1_group  \\\n",
       "0    기업형슈퍼마켓       NaN        0         0.0    0                3         40   \n",
       "1       슈퍼마켓       NaN        0         0.0    0                3         40   \n",
       "2       슈퍼마켓       NaN        0         0.0    0                3         40   \n",
       "\n",
       "  income_v2  \n",
       "0  200만원 미만  \n",
       "1  200만원 미만  \n",
       "2  200만원 미만  \n",
       "\n",
       "[3 rows x 33 columns]"
      ]
     },
     "execution_count": 177,
     "metadata": {},
     "output_type": "execute_result"
    }
   ],
   "source": [
    "## 1. 결측치 비율이 80% 이상인 칼럼 삭제\n",
    "missing_ratios = df.isnull().sum() / len(df)\n",
    "\n",
    "# 결측치 비율이 0.8 이상인 칼럼만 선택 > 총 16개\n",
    "high_missing_cols = missing_ratios[missing_ratios >= 0.8].index\n",
    "print('결측치 비율이 0.8 이상인 칼럼의 개수 : %s' % len(high_missing_cols))\n",
    "print('----------------------------------------')\n",
    "\n",
    "# 해당 칼럼을 제외한 새로운 데이터프레임 생성\n",
    "df = df.drop(columns = high_missing_cols)\n",
    "\n",
    "# 결과 출력 > from 49 cols to 33 cols\n",
    "print(df.shape)\n",
    "df.head(3)"
   ]
  },
  {
   "cell_type": "code",
   "execution_count": 178,
   "metadata": {},
   "outputs": [
    {
     "name": "stdout",
     "output_type": "stream",
     "text": [
      "(538382, 29)\n"
     ]
    },
    {
     "data": {
      "text/html": [
       "<div>\n",
       "<style scoped>\n",
       "    .dataframe tbody tr th:only-of-type {\n",
       "        vertical-align: middle;\n",
       "    }\n",
       "\n",
       "    .dataframe tbody tr th {\n",
       "        vertical-align: top;\n",
       "    }\n",
       "\n",
       "    .dataframe thead th {\n",
       "        text-align: right;\n",
       "    }\n",
       "</style>\n",
       "<table border=\"1\" class=\"dataframe\">\n",
       "  <thead>\n",
       "    <tr style=\"text-align: right;\">\n",
       "      <th></th>\n",
       "      <th>year</th>\n",
       "      <th>month</th>\n",
       "      <th>type_channel_new</th>\n",
       "      <th>shop_day</th>\n",
       "      <th>shop_week</th>\n",
       "      <th>store</th>\n",
       "      <th>store_region</th>\n",
       "      <th>product</th>\n",
       "      <th>wide</th>\n",
       "      <th>middle</th>\n",
       "      <th>...</th>\n",
       "      <th>w_q_kg</th>\n",
       "      <th>retail_8</th>\n",
       "      <th>retail_new</th>\n",
       "      <th>shop_time</th>\n",
       "      <th>take_out</th>\n",
       "      <th>panel_type</th>\n",
       "      <th>edit</th>\n",
       "      <th>family_num_level</th>\n",
       "      <th>age1_group</th>\n",
       "      <th>income_v2</th>\n",
       "    </tr>\n",
       "  </thead>\n",
       "  <tbody>\n",
       "    <tr>\n",
       "      <th>0</th>\n",
       "      <td>2010</td>\n",
       "      <td>1</td>\n",
       "      <td>슈퍼마켓</td>\n",
       "      <td>2010-01-19</td>\n",
       "      <td>3</td>\n",
       "      <td>하나로클럽고양점</td>\n",
       "      <td>경기</td>\n",
       "      <td>배친환경_</td>\n",
       "      <td>과일류</td>\n",
       "      <td>배</td>\n",
       "      <td>...</td>\n",
       "      <td>.</td>\n",
       "      <td>3슈퍼마켓</td>\n",
       "      <td>기업형슈퍼마켓</td>\n",
       "      <td>NaN</td>\n",
       "      <td>0</td>\n",
       "      <td>0.0</td>\n",
       "      <td>0</td>\n",
       "      <td>3</td>\n",
       "      <td>40</td>\n",
       "      <td>200만원 미만</td>\n",
       "    </tr>\n",
       "    <tr>\n",
       "      <th>1</th>\n",
       "      <td>2010</td>\n",
       "      <td>1</td>\n",
       "      <td>슈퍼마켓</td>\n",
       "      <td>2010-01-18</td>\n",
       "      <td>2</td>\n",
       "      <td>소형슈퍼마켓</td>\n",
       "      <td>경기</td>\n",
       "      <td>바나나필리핀</td>\n",
       "      <td>과일류</td>\n",
       "      <td>바나나</td>\n",
       "      <td>...</td>\n",
       "      <td>.</td>\n",
       "      <td>3슈퍼마켓</td>\n",
       "      <td>슈퍼마켓</td>\n",
       "      <td>NaN</td>\n",
       "      <td>0</td>\n",
       "      <td>0.0</td>\n",
       "      <td>0</td>\n",
       "      <td>3</td>\n",
       "      <td>40</td>\n",
       "      <td>200만원 미만</td>\n",
       "    </tr>\n",
       "    <tr>\n",
       "      <th>2</th>\n",
       "      <td>2010</td>\n",
       "      <td>1</td>\n",
       "      <td>슈퍼마켓</td>\n",
       "      <td>2010-01-27</td>\n",
       "      <td>4</td>\n",
       "      <td>소형슈퍼마켓</td>\n",
       "      <td>경기</td>\n",
       "      <td>귤</td>\n",
       "      <td>과일류</td>\n",
       "      <td>감귤</td>\n",
       "      <td>...</td>\n",
       "      <td>5</td>\n",
       "      <td>3슈퍼마켓</td>\n",
       "      <td>슈퍼마켓</td>\n",
       "      <td>NaN</td>\n",
       "      <td>0</td>\n",
       "      <td>0.0</td>\n",
       "      <td>0</td>\n",
       "      <td>3</td>\n",
       "      <td>40</td>\n",
       "      <td>200만원 미만</td>\n",
       "    </tr>\n",
       "  </tbody>\n",
       "</table>\n",
       "<p>3 rows × 29 columns</p>\n",
       "</div>"
      ],
      "text/plain": [
       "   year  month type_channel_new    shop_day shop_week     store store_region  \\\n",
       "0  2010      1             슈퍼마켓  2010-01-19         3  하나로클럽고양점           경기   \n",
       "1  2010      1             슈퍼마켓  2010-01-18         2    소형슈퍼마켓           경기   \n",
       "2  2010      1             슈퍼마켓  2010-01-27         4    소형슈퍼마켓           경기   \n",
       "\n",
       "  product wide middle  ... w_q_kg  retail_8 retail_new shop_time take_out  \\\n",
       "0   배친환경_  과일류      배  ...      .     3슈퍼마켓    기업형슈퍼마켓       NaN        0   \n",
       "1  바나나필리핀  과일류    바나나  ...      .     3슈퍼마켓       슈퍼마켓       NaN        0   \n",
       "2       귤  과일류     감귤  ...      5     3슈퍼마켓       슈퍼마켓       NaN        0   \n",
       "\n",
       "  panel_type edit family_num_level age1_group income_v2  \n",
       "0        0.0    0                3         40  200만원 미만  \n",
       "1        0.0    0                3         40  200만원 미만  \n",
       "2        0.0    0                3         40  200만원 미만  \n",
       "\n",
       "[3 rows x 29 columns]"
      ]
     },
     "execution_count": 178,
     "metadata": {},
     "output_type": "execute_result"
    }
   ],
   "source": [
    "## 2. 의미없는 데이터 적재 칼럼 삭제\n",
    "cols = ['panel_code', 'panel_code_new', 'type_channel', 'product_code']\n",
    "\n",
    "# 해당 칼럼을 제외한 새로운 데이터프레임 생성\n",
    "df = df.drop(columns = cols)\n",
    "\n",
    "# 결과 출력 > from 33 cols to 29 cols\n",
    "print(df.shape)\n",
    "df.head(3)"
   ]
  },
  {
   "cell_type": "markdown",
   "metadata": {},
   "source": [
    "# 2. 변수 확인"
   ]
  },
  {
   "cell_type": "markdown",
   "metadata": {},
   "source": [
    "## year / month : 연도 / 월"
   ]
  },
  {
   "cell_type": "code",
   "execution_count": 179,
   "metadata": {},
   "outputs": [
    {
     "name": "stdout",
     "output_type": "stream",
     "text": [
      "unique한 year 개수 :  14\n"
     ]
    },
    {
     "data": {
      "text/plain": [
       "array([2010, 2011, 2012, 2013, 2014, 2015, 2016, 2017, 2018, 2019, 2020,\n",
       "       2021, 2022, 2023], dtype=int64)"
      ]
     },
     "execution_count": 179,
     "metadata": {},
     "output_type": "execute_result"
    }
   ],
   "source": [
    "# year\n",
    "print('unique한 year 개수 : ', len(df['year'].unique()))\n",
    "df['year'].unique()"
   ]
  },
  {
   "cell_type": "code",
   "execution_count": 180,
   "metadata": {},
   "outputs": [
    {
     "name": "stdout",
     "output_type": "stream",
     "text": [
      "unique한 month 개수 :  12\n"
     ]
    },
    {
     "data": {
      "text/plain": [
       "array([ 1,  2,  3,  4,  5,  6,  7,  8,  9, 10, 11, 12], dtype=int64)"
      ]
     },
     "execution_count": 180,
     "metadata": {},
     "output_type": "execute_result"
    }
   ],
   "source": [
    "# month\n",
    "print('unique한 month 개수 : ', len(df['month'].unique()))\n",
    "df['month'].unique()"
   ]
  },
  {
   "cell_type": "code",
   "execution_count": 181,
   "metadata": {},
   "outputs": [
    {
     "name": "stdout",
     "output_type": "stream",
     "text": [
      "판매 시작 year-month : 2010 년 1 월\n",
      "판매 종료 year-month : 2023 년 12 월\n"
     ]
    }
   ],
   "source": [
    "# 데이터 범위\n",
    "start = df['year'].min()\n",
    "end = df['year'].max()\n",
    "\n",
    "print('판매 시작 year-month : %s 년 %s 월' % (start, df[df['year'] == start]['month'].min()))\n",
    "print('판매 종료 year-month : %s 년 %s 월' % (end, df[df['year'] == end]['month'].max()))"
   ]
  },
  {
   "cell_type": "code",
   "execution_count": 182,
   "metadata": {},
   "outputs": [
    {
     "data": {
      "text/html": [
       "<div>\n",
       "<style scoped>\n",
       "    .dataframe tbody tr th:only-of-type {\n",
       "        vertical-align: middle;\n",
       "    }\n",
       "\n",
       "    .dataframe tbody tr th {\n",
       "        vertical-align: top;\n",
       "    }\n",
       "\n",
       "    .dataframe thead th {\n",
       "        text-align: right;\n",
       "    }\n",
       "</style>\n",
       "<table border=\"1\" class=\"dataframe\">\n",
       "  <thead>\n",
       "    <tr style=\"text-align: right;\">\n",
       "      <th>month</th>\n",
       "      <th>1</th>\n",
       "      <th>2</th>\n",
       "      <th>3</th>\n",
       "      <th>4</th>\n",
       "      <th>5</th>\n",
       "      <th>6</th>\n",
       "      <th>7</th>\n",
       "      <th>8</th>\n",
       "      <th>9</th>\n",
       "      <th>10</th>\n",
       "      <th>11</th>\n",
       "      <th>12</th>\n",
       "    </tr>\n",
       "    <tr>\n",
       "      <th>year</th>\n",
       "      <th></th>\n",
       "      <th></th>\n",
       "      <th></th>\n",
       "      <th></th>\n",
       "      <th></th>\n",
       "      <th></th>\n",
       "      <th></th>\n",
       "      <th></th>\n",
       "      <th></th>\n",
       "      <th></th>\n",
       "      <th></th>\n",
       "      <th></th>\n",
       "    </tr>\n",
       "  </thead>\n",
       "  <tbody>\n",
       "    <tr>\n",
       "      <th>2010</th>\n",
       "      <td>3713</td>\n",
       "      <td>3217</td>\n",
       "      <td>3745</td>\n",
       "      <td>3576</td>\n",
       "      <td>3116</td>\n",
       "      <td>2467</td>\n",
       "      <td>3075</td>\n",
       "      <td>4223</td>\n",
       "      <td>3773</td>\n",
       "      <td>4345</td>\n",
       "      <td>4000</td>\n",
       "      <td>3511</td>\n",
       "    </tr>\n",
       "    <tr>\n",
       "      <th>2011</th>\n",
       "      <td>3593</td>\n",
       "      <td>2593</td>\n",
       "      <td>3192</td>\n",
       "      <td>3077</td>\n",
       "      <td>2612</td>\n",
       "      <td>2257</td>\n",
       "      <td>2977</td>\n",
       "      <td>4274</td>\n",
       "      <td>3643</td>\n",
       "      <td>4359</td>\n",
       "      <td>3714</td>\n",
       "      <td>3369</td>\n",
       "    </tr>\n",
       "    <tr>\n",
       "      <th>2012</th>\n",
       "      <td>3272</td>\n",
       "      <td>2844</td>\n",
       "      <td>3299</td>\n",
       "      <td>2956</td>\n",
       "      <td>2368</td>\n",
       "      <td>2163</td>\n",
       "      <td>3131</td>\n",
       "      <td>4315</td>\n",
       "      <td>3982</td>\n",
       "      <td>3574</td>\n",
       "      <td>3556</td>\n",
       "      <td>2931</td>\n",
       "    </tr>\n",
       "    <tr>\n",
       "      <th>2013</th>\n",
       "      <td>3075</td>\n",
       "      <td>2458</td>\n",
       "      <td>3005</td>\n",
       "      <td>2801</td>\n",
       "      <td>2020</td>\n",
       "      <td>2087</td>\n",
       "      <td>2742</td>\n",
       "      <td>3953</td>\n",
       "      <td>3340</td>\n",
       "      <td>3700</td>\n",
       "      <td>3233</td>\n",
       "      <td>2746</td>\n",
       "    </tr>\n",
       "    <tr>\n",
       "      <th>2014</th>\n",
       "      <td>3206</td>\n",
       "      <td>2091</td>\n",
       "      <td>2977</td>\n",
       "      <td>2972</td>\n",
       "      <td>2310</td>\n",
       "      <td>2376</td>\n",
       "      <td>3145</td>\n",
       "      <td>3868</td>\n",
       "      <td>3213</td>\n",
       "      <td>3866</td>\n",
       "      <td>3233</td>\n",
       "      <td>3072</td>\n",
       "    </tr>\n",
       "    <tr>\n",
       "      <th>2015</th>\n",
       "      <td>3646</td>\n",
       "      <td>3082</td>\n",
       "      <td>3274</td>\n",
       "      <td>3545</td>\n",
       "      <td>3033</td>\n",
       "      <td>2931</td>\n",
       "      <td>3457</td>\n",
       "      <td>4361</td>\n",
       "      <td>4154</td>\n",
       "      <td>4342</td>\n",
       "      <td>3763</td>\n",
       "      <td>3727</td>\n",
       "    </tr>\n",
       "    <tr>\n",
       "      <th>2016</th>\n",
       "      <td>3734</td>\n",
       "      <td>2926</td>\n",
       "      <td>3244</td>\n",
       "      <td>3252</td>\n",
       "      <td>2790</td>\n",
       "      <td>2994</td>\n",
       "      <td>3715</td>\n",
       "      <td>4316</td>\n",
       "      <td>3801</td>\n",
       "      <td>4302</td>\n",
       "      <td>3718</td>\n",
       "      <td>3582</td>\n",
       "    </tr>\n",
       "    <tr>\n",
       "      <th>2017</th>\n",
       "      <td>3521</td>\n",
       "      <td>2593</td>\n",
       "      <td>3278</td>\n",
       "      <td>3247</td>\n",
       "      <td>2865</td>\n",
       "      <td>2749</td>\n",
       "      <td>3677</td>\n",
       "      <td>4383</td>\n",
       "      <td>4046</td>\n",
       "      <td>3620</td>\n",
       "      <td>3436</td>\n",
       "      <td>3100</td>\n",
       "    </tr>\n",
       "    <tr>\n",
       "      <th>2018</th>\n",
       "      <td>2796</td>\n",
       "      <td>2464</td>\n",
       "      <td>2795</td>\n",
       "      <td>2929</td>\n",
       "      <td>2450</td>\n",
       "      <td>2651</td>\n",
       "      <td>3061</td>\n",
       "      <td>3477</td>\n",
       "      <td>3326</td>\n",
       "      <td>3451</td>\n",
       "      <td>3134</td>\n",
       "      <td>2862</td>\n",
       "    </tr>\n",
       "    <tr>\n",
       "      <th>2019</th>\n",
       "      <td>2800</td>\n",
       "      <td>2231</td>\n",
       "      <td>2473</td>\n",
       "      <td>2363</td>\n",
       "      <td>2166</td>\n",
       "      <td>2106</td>\n",
       "      <td>2742</td>\n",
       "      <td>3290</td>\n",
       "      <td>2858</td>\n",
       "      <td>3031</td>\n",
       "      <td>2725</td>\n",
       "      <td>2453</td>\n",
       "    </tr>\n",
       "    <tr>\n",
       "      <th>2020</th>\n",
       "      <td>2478</td>\n",
       "      <td>1975</td>\n",
       "      <td>2349</td>\n",
       "      <td>2237</td>\n",
       "      <td>2070</td>\n",
       "      <td>2126</td>\n",
       "      <td>2504</td>\n",
       "      <td>2856</td>\n",
       "      <td>3303</td>\n",
       "      <td>2628</td>\n",
       "      <td>2451</td>\n",
       "      <td>2558</td>\n",
       "    </tr>\n",
       "    <tr>\n",
       "      <th>2021</th>\n",
       "      <td>2266</td>\n",
       "      <td>1827</td>\n",
       "      <td>1930</td>\n",
       "      <td>1873</td>\n",
       "      <td>1771</td>\n",
       "      <td>1890</td>\n",
       "      <td>2386</td>\n",
       "      <td>2728</td>\n",
       "      <td>2592</td>\n",
       "      <td>2592</td>\n",
       "      <td>2157</td>\n",
       "      <td>2045</td>\n",
       "    </tr>\n",
       "    <tr>\n",
       "      <th>2022</th>\n",
       "      <td>4543</td>\n",
       "      <td>3069</td>\n",
       "      <td>3731</td>\n",
       "      <td>3553</td>\n",
       "      <td>3445</td>\n",
       "      <td>3513</td>\n",
       "      <td>4824</td>\n",
       "      <td>5470</td>\n",
       "      <td>4777</td>\n",
       "      <td>5428</td>\n",
       "      <td>4302</td>\n",
       "      <td>4143</td>\n",
       "    </tr>\n",
       "    <tr>\n",
       "      <th>2023</th>\n",
       "      <td>3773</td>\n",
       "      <td>3263</td>\n",
       "      <td>3469</td>\n",
       "      <td>3439</td>\n",
       "      <td>3322</td>\n",
       "      <td>3725</td>\n",
       "      <td>4259</td>\n",
       "      <td>4727</td>\n",
       "      <td>4591</td>\n",
       "      <td>4387</td>\n",
       "      <td>4092</td>\n",
       "      <td>3806</td>\n",
       "    </tr>\n",
       "  </tbody>\n",
       "</table>\n",
       "</div>"
      ],
      "text/plain": [
       "month    1     2     3     4     5     6     7     8     9     10    11    12\n",
       "year                                                                         \n",
       "2010   3713  3217  3745  3576  3116  2467  3075  4223  3773  4345  4000  3511\n",
       "2011   3593  2593  3192  3077  2612  2257  2977  4274  3643  4359  3714  3369\n",
       "2012   3272  2844  3299  2956  2368  2163  3131  4315  3982  3574  3556  2931\n",
       "2013   3075  2458  3005  2801  2020  2087  2742  3953  3340  3700  3233  2746\n",
       "2014   3206  2091  2977  2972  2310  2376  3145  3868  3213  3866  3233  3072\n",
       "2015   3646  3082  3274  3545  3033  2931  3457  4361  4154  4342  3763  3727\n",
       "2016   3734  2926  3244  3252  2790  2994  3715  4316  3801  4302  3718  3582\n",
       "2017   3521  2593  3278  3247  2865  2749  3677  4383  4046  3620  3436  3100\n",
       "2018   2796  2464  2795  2929  2450  2651  3061  3477  3326  3451  3134  2862\n",
       "2019   2800  2231  2473  2363  2166  2106  2742  3290  2858  3031  2725  2453\n",
       "2020   2478  1975  2349  2237  2070  2126  2504  2856  3303  2628  2451  2558\n",
       "2021   2266  1827  1930  1873  1771  1890  2386  2728  2592  2592  2157  2045\n",
       "2022   4543  3069  3731  3553  3445  3513  4824  5470  4777  5428  4302  4143\n",
       "2023   3773  3263  3469  3439  3322  3725  4259  4727  4591  4387  4092  3806"
      ]
     },
     "execution_count": 182,
     "metadata": {},
     "output_type": "execute_result"
    }
   ],
   "source": [
    "# 연도/월별 판매 수량 > 모든 year/month에 판매\n",
    "pd.pivot_table(df\n",
    "               , index = 'year'\n",
    "               , columns = 'month'\n",
    "               , aggfunc = 'size'\n",
    "               , fill_value = 0)"
   ]
  },
  {
   "cell_type": "code",
   "execution_count": 183,
   "metadata": {},
   "outputs": [
    {
     "data": {
      "image/png": "[encoded data removed]",
      "text/plain": [
       "<Figure size 800x500 with 1 Axes>"
      ]
     },
     "metadata": {},
     "output_type": "display_data"
    }
   ],
   "source": [
    "## 연도별 판매량 시각화\n",
    "sales_by_year = df['year'].value_counts().sort_index().copy()\n",
    "\n",
    "# fig : 그래프의 빈 도면, 여기에 그래프의 모든 내용이 그려짐\n",
    "# ax : 실제로 그래프와 plot을 그리는 데 사용되는 영역\n",
    "fig, ax = plt.subplots(figsize=(8, 5))\n",
    "\n",
    "ax.bar(sales_by_year.index, sales_by_year.values)\n",
    "ax.set_xlabel('주문 연도')\n",
    "ax.set_ylabel('판매 수량')\n",
    "\n",
    "plt.title('연도별 판매량')\n",
    "plt.show()"
   ]
  },
  {
   "cell_type": "code",
   "execution_count": 184,
   "metadata": {},
   "outputs": [
    {
     "data": {
      "image/png": "[encoded data removed]",
      "text/plain": [
       "<Figure size 800x500 with 1 Axes>"
      ]
     },
     "metadata": {},
     "output_type": "display_data"
    }
   ],
   "source": [
    "## 월별 판매량 시각화\n",
    "sales_by_month = df['month'].value_counts().sort_index().copy()\n",
    "\n",
    "fig, ax = plt.subplots(figsize=(8, 5))\n",
    "\n",
    "ax.bar(sales_by_month.index, sales_by_month.values)\n",
    "ax.set_xlabel('주문 월')\n",
    "ax.set_ylabel('판매 수량')\n",
    "\n",
    "plt.title('월별 판매량')\n",
    "plt.show()"
   ]
  },
  {
   "cell_type": "markdown",
   "metadata": {},
   "source": [
    "## type_channel_new : 구매 장소"
   ]
  },
  {
   "cell_type": "code",
   "execution_count": 185,
   "metadata": {},
   "outputs": [
    {
     "name": "stdout",
     "output_type": "stream",
     "text": [
      "unique한 type_cannel_new 개수 :  13\n"
     ]
    },
    {
     "data": {
      "text/plain": [
       "array(['슈퍼마켓', '대형마트', '백화점', '전통시장', '무점포', '기타', '온라인몰', '전문점', '편의점',\n",
       "       '농가직거래', '정육점', '홈쇼핑', '외식업체'], dtype=object)"
      ]
     },
     "execution_count": 185,
     "metadata": {},
     "output_type": "execute_result"
    }
   ],
   "source": [
    "print('unique한 type_cannel_new 개수 : ', len(df['type_channel_new'].unique()))\n",
    "df['type_channel_new'].unique()"
   ]
  },
  {
   "cell_type": "code",
   "execution_count": 186,
   "metadata": {},
   "outputs": [
    {
     "data": {
      "image/png": "[encoded data removed]",
      "text/plain": [
       "<Figure size 1500x500 with 1 Axes>"
      ]
     },
     "metadata": {},
     "output_type": "display_data"
    }
   ],
   "source": [
    "## 구매장소별 판매량 시각화\n",
    "sales_by_channel = df['type_channel_new'].value_counts().sort_values(ascending=False).copy()\n",
    "\n",
    "fig, ax = plt.subplots(figsize=(15, 5))\n",
    "\n",
    "ax.bar(sales_by_channel.index, sales_by_channel.values)\n",
    "ax.set_xlabel('구매 장소')\n",
    "ax.set_ylabel('판매 수량')\n",
    "\n",
    "plt.title('구매 장소별 판매량')\n",
    "plt.show()"
   ]
  },
  {
   "cell_type": "markdown",
   "metadata": {},
   "source": [
    "## shop_day : 구입일"
   ]
  },
  {
   "cell_type": "code",
   "execution_count": 187,
   "metadata": {},
   "outputs": [
    {
     "data": {
      "text/plain": [
       "shop_day\n",
       "2022-09-09    328\n",
       "2022-08-27    283\n",
       "2018-09-22    272\n",
       "2015-09-26    270\n",
       "2022-09-08    260\n",
       "Name: count, dtype: int64"
      ]
     },
     "execution_count": 187,
     "metadata": {},
     "output_type": "execute_result"
    }
   ],
   "source": [
    "df['shop_day'].value_counts().head()"
   ]
  },
  {
   "cell_type": "code",
   "execution_count": 188,
   "metadata": {},
   "outputs": [
    {
     "name": "stdout",
     "output_type": "stream",
     "text": [
      "<class 'pandas.core.series.Series'>\n",
      "RangeIndex: 538382 entries, 0 to 538381\n",
      "Series name: shop_day\n",
      "Non-Null Count   Dtype         \n",
      "--------------   -----         \n",
      "538382 non-null  datetime64[ns]\n",
      "dtypes: datetime64[ns](1)\n",
      "memory usage: 4.1 MB\n"
     ]
    }
   ],
   "source": [
    "# datetime형 변환 \n",
    "df['shop_day'] = pd.to_datetime(df['shop_day'])\n",
    "df['shop_day'].info()"
   ]
  },
  {
   "cell_type": "code",
   "execution_count": 189,
   "metadata": {},
   "outputs": [
    {
     "data": {
      "text/html": [
       "<div>\n",
       "<style scoped>\n",
       "    .dataframe tbody tr th:only-of-type {\n",
       "        vertical-align: middle;\n",
       "    }\n",
       "\n",
       "    .dataframe tbody tr th {\n",
       "        vertical-align: top;\n",
       "    }\n",
       "\n",
       "    .dataframe thead th {\n",
       "        text-align: right;\n",
       "    }\n",
       "</style>\n",
       "<table border=\"1\" class=\"dataframe\">\n",
       "  <thead>\n",
       "    <tr style=\"text-align: right;\">\n",
       "      <th></th>\n",
       "      <th>shop_day</th>\n",
       "      <th>year</th>\n",
       "      <th>month</th>\n",
       "      <th>day</th>\n",
       "    </tr>\n",
       "  </thead>\n",
       "  <tbody>\n",
       "    <tr>\n",
       "      <th>538375</th>\n",
       "      <td>2023-12-10</td>\n",
       "      <td>2023</td>\n",
       "      <td>12</td>\n",
       "      <td>10</td>\n",
       "    </tr>\n",
       "    <tr>\n",
       "      <th>538376</th>\n",
       "      <td>2023-12-16</td>\n",
       "      <td>2023</td>\n",
       "      <td>12</td>\n",
       "      <td>16</td>\n",
       "    </tr>\n",
       "    <tr>\n",
       "      <th>538377</th>\n",
       "      <td>2023-12-16</td>\n",
       "      <td>2023</td>\n",
       "      <td>12</td>\n",
       "      <td>16</td>\n",
       "    </tr>\n",
       "    <tr>\n",
       "      <th>538378</th>\n",
       "      <td>2023-12-18</td>\n",
       "      <td>2023</td>\n",
       "      <td>12</td>\n",
       "      <td>18</td>\n",
       "    </tr>\n",
       "    <tr>\n",
       "      <th>538379</th>\n",
       "      <td>2023-12-21</td>\n",
       "      <td>2023</td>\n",
       "      <td>12</td>\n",
       "      <td>21</td>\n",
       "    </tr>\n",
       "    <tr>\n",
       "      <th>538380</th>\n",
       "      <td>2023-12-21</td>\n",
       "      <td>2023</td>\n",
       "      <td>12</td>\n",
       "      <td>21</td>\n",
       "    </tr>\n",
       "    <tr>\n",
       "      <th>538381</th>\n",
       "      <td>2023-12-25</td>\n",
       "      <td>2023</td>\n",
       "      <td>12</td>\n",
       "      <td>25</td>\n",
       "    </tr>\n",
       "  </tbody>\n",
       "</table>\n",
       "</div>"
      ],
      "text/plain": [
       "         shop_day  year  month  day\n",
       "538375 2023-12-10  2023     12   10\n",
       "538376 2023-12-16  2023     12   16\n",
       "538377 2023-12-16  2023     12   16\n",
       "538378 2023-12-18  2023     12   18\n",
       "538379 2023-12-21  2023     12   21\n",
       "538380 2023-12-21  2023     12   21\n",
       "538381 2023-12-25  2023     12   25"
      ]
     },
     "execution_count": 189,
     "metadata": {},
     "output_type": "execute_result"
    }
   ],
   "source": [
    "# day 칼럼 생성\n",
    "df['day'] = df['shop_day'].dt.day\n",
    "\n",
    "# 확인\n",
    "df[['shop_day', 'year', 'month', 'day']].tail(7)"
   ]
  },
  {
   "cell_type": "markdown",
   "metadata": {},
   "source": [
    "## shop_week : 구입 요일"
   ]
  },
  {
   "cell_type": "code",
   "execution_count": 190,
   "metadata": {},
   "outputs": [
    {
     "name": "stdout",
     "output_type": "stream",
     "text": [
      "unique한 shop_week 개수 :  15\n"
     ]
    },
    {
     "data": {
      "text/plain": [
       "array([3, 2, 4, 6, 7, 1, 5, '2', '7', '1', '3', '6', '5', '4', '.'],\n",
       "      dtype=object)"
      ]
     },
     "execution_count": 190,
     "metadata": {},
     "output_type": "execute_result"
    }
   ],
   "source": [
    "print('unique한 shop_week 개수 : ', len(df['shop_week'].unique()))\n",
    "df['shop_week'].unique()"
   ]
  },
  {
   "cell_type": "code",
   "execution_count": 191,
   "metadata": {},
   "outputs": [
    {
     "data": {
      "text/html": [
       "<div>\n",
       "<style scoped>\n",
       "    .dataframe tbody tr th:only-of-type {\n",
       "        vertical-align: middle;\n",
       "    }\n",
       "\n",
       "    .dataframe tbody tr th {\n",
       "        vertical-align: top;\n",
       "    }\n",
       "\n",
       "    .dataframe thead th {\n",
       "        text-align: right;\n",
       "    }\n",
       "</style>\n",
       "<table border=\"1\" class=\"dataframe\">\n",
       "  <thead>\n",
       "    <tr style=\"text-align: right;\">\n",
       "      <th></th>\n",
       "      <th>year</th>\n",
       "      <th>month</th>\n",
       "      <th>type_channel_new</th>\n",
       "      <th>shop_day</th>\n",
       "      <th>shop_week</th>\n",
       "      <th>store</th>\n",
       "      <th>store_region</th>\n",
       "      <th>product</th>\n",
       "      <th>wide</th>\n",
       "      <th>middle</th>\n",
       "      <th>...</th>\n",
       "      <th>retail_8</th>\n",
       "      <th>retail_new</th>\n",
       "      <th>shop_time</th>\n",
       "      <th>take_out</th>\n",
       "      <th>panel_type</th>\n",
       "      <th>edit</th>\n",
       "      <th>family_num_level</th>\n",
       "      <th>age1_group</th>\n",
       "      <th>income_v2</th>\n",
       "      <th>day</th>\n",
       "    </tr>\n",
       "  </thead>\n",
       "  <tbody>\n",
       "    <tr>\n",
       "      <th>381954</th>\n",
       "      <td>2019</td>\n",
       "      <td>11</td>\n",
       "      <td>슈퍼마켓</td>\n",
       "      <td>2019-11-23</td>\n",
       "      <td>.</td>\n",
       "      <td>공단소비자마트</td>\n",
       "      <td>인천</td>\n",
       "      <td>사과_국내산_</td>\n",
       "      <td>과일류</td>\n",
       "      <td>사과</td>\n",
       "      <td>...</td>\n",
       "      <td>3슈퍼마켓</td>\n",
       "      <td>슈퍼마켓</td>\n",
       "      <td>1</td>\n",
       "      <td>0</td>\n",
       "      <td>0.0</td>\n",
       "      <td>0</td>\n",
       "      <td>3</td>\n",
       "      <td>30</td>\n",
       "      <td>600~699만원</td>\n",
       "      <td>23</td>\n",
       "    </tr>\n",
       "  </tbody>\n",
       "</table>\n",
       "<p>1 rows × 30 columns</p>\n",
       "</div>"
      ],
      "text/plain": [
       "        year  month type_channel_new   shop_day shop_week    store  \\\n",
       "381954  2019     11             슈퍼마켓 2019-11-23         .  공단소비자마트   \n",
       "\n",
       "       store_region  product wide middle  ... retail_8  retail_new shop_time  \\\n",
       "381954           인천  사과_국내산_  과일류     사과  ...    3슈퍼마켓        슈퍼마켓         1   \n",
       "\n",
       "       take_out panel_type edit family_num_level age1_group  income_v2 day  \n",
       "381954        0        0.0    0                3         30  600~699만원  23  \n",
       "\n",
       "[1 rows x 30 columns]"
      ]
     },
     "execution_count": 191,
     "metadata": {},
     "output_type": "execute_result"
    }
   ],
   "source": [
    "# shop_week이 '.'인 데이터의 shop_day\n",
    "df[df['shop_week'] == '.']"
   ]
  },
  {
   "cell_type": "code",
   "execution_count": 192,
   "metadata": {},
   "outputs": [
    {
     "name": "stdout",
     "output_type": "stream",
     "text": [
      "shop_week이 '.'인 데이터의 shop_day의 shop_week ('.' 포함) :  ['7', '.']\n",
      "-------------------------------------------------------\n",
      "shop_week이 '.'였던 데이터의 shop_day의 shop_week :  ['7']\n"
     ]
    }
   ],
   "source": [
    "## shop_day가 동일한 행에서 shop_week의 최빈값으로 '.' 값을 대체\n",
    "\n",
    "# shop_week이 '.'인 데이터의 shop_day\n",
    "change_week = df[df['shop_week'] == '.']['shop_day'].tolist()\n",
    "\n",
    "# shop_week이 '.'인 데이터의 shop_day의 shop_week ('.' 포함)\n",
    "print(\"shop_week이 '.'인 데이터의 shop_day의 shop_week ('.' 포함) : \"\n",
    "      , df[df['shop_day'].isin(change_week)]['shop_week'].unique().tolist())\n",
    "print('-------------------------------------------------------')\n",
    "\n",
    "\n",
    "for i in df[df['shop_week'] == '.'].index :\n",
    "    shop_day_value = df.loc[i, 'shop_day']\n",
    "\n",
    "    # shop_day가 같은 행들의 shop_week 값 가져오기\n",
    "    same_day_weeks = df[df['shop_day'] == shop_day_value]['shop_week']\n",
    "\n",
    "    # 최빈값 값 계산 (단, '.' 제외) > int와 obj형이 혼합되어 있으므로 최빈값으로 계산\n",
    "    mode_value = same_day_weeks[same_day_weeks != '.'].mode()[0]\n",
    "\n",
    "    # '.'을 유니크한 값으로 대체\n",
    "    df.loc[i, 'shop_week'] = mode_value \n",
    "\n",
    "\n",
    "# 확인\n",
    "print(\"shop_week이 '.'였던 데이터의 shop_day의 shop_week : \"\n",
    "      , df[df['shop_day'].isin(change_week)]['shop_week'].unique().tolist())"
   ]
  },
  {
   "cell_type": "code",
   "execution_count": 193,
   "metadata": {},
   "outputs": [
    {
     "data": {
      "text/plain": [
       "array([3, 2, 4, 6, 7, 1, 5, '2', '7', '1', '3', '6', '5', '4'],\n",
       "      dtype=object)"
      ]
     },
     "execution_count": 193,
     "metadata": {},
     "output_type": "execute_result"
    }
   ],
   "source": [
    "df['shop_week'].unique()"
   ]
  },
  {
   "cell_type": "code",
   "execution_count": 194,
   "metadata": {},
   "outputs": [
    {
     "name": "stdout",
     "output_type": "stream",
     "text": [
      "unique한 shop_week 개수 :  7\n"
     ]
    },
    {
     "data": {
      "text/plain": [
       "array(['화요일', '월요일', '수요일', '금요일', '토요일', '일요일', '목요일'], dtype=object)"
      ]
     },
     "execution_count": 194,
     "metadata": {},
     "output_type": "execute_result"
    }
   ],
   "source": [
    "## 요일명 변경\n",
    "\n",
    "# 문자열 정수형으로 변환\n",
    "df['shop_week'] = df['shop_week'].astype(int)\n",
    "\n",
    "# 숫자를 요일로 매핑\n",
    "week_map = {1 : '일요일'\n",
    "            , 2 : '월요일'\n",
    "            , 3 : '화요일'\n",
    "            , 4 : '수요일'\n",
    "            , 5 : '목요일'\n",
    "            , 6 : '금요일'\n",
    "            , 7 : '토요일'}\n",
    "\n",
    "df['shop_week'] = df['shop_week'].map(week_map)\n",
    "\n",
    "# 확인\n",
    "print('unique한 shop_week 개수 : ', len(df['shop_week'].unique()))\n",
    "df['shop_week'].unique()"
   ]
  },
  {
   "cell_type": "code",
   "execution_count": 195,
   "metadata": {},
   "outputs": [
    {
     "data": {
      "image/png": "[encoded data removed]",
      "text/plain": [
       "<Figure size 800x500 with 1 Axes>"
      ]
     },
     "metadata": {},
     "output_type": "display_data"
    }
   ],
   "source": [
    "## 요일별 판매량 시각화\n",
    "\n",
    "# 요일 순서 정의\n",
    "week_order = ['일요일', '월요일', '화요일', '수요일', '목요일', '금요일', '토요일']\n",
    "\n",
    "sales_by_week = pd.Categorical(df['shop_week'], categories=week_order, ordered=True).value_counts()\n",
    "\n",
    "fig, ax = plt.subplots(figsize=(8, 5))\n",
    "\n",
    "ax.bar(sales_by_week.index, sales_by_week.values)\n",
    "ax.set_xlabel('요일')\n",
    "ax.set_ylabel('판매 수량')\n",
    "\n",
    "plt.title('요일별 판매량')\n",
    "plt.show()"
   ]
  },
  {
   "cell_type": "markdown",
   "metadata": {},
   "source": [
    "## store : 상점명"
   ]
  },
  {
   "cell_type": "code",
   "execution_count": 205,
   "metadata": {},
   "outputs": [
    {
     "name": "stdout",
     "output_type": "stream",
     "text": [
      "unique한 store 개수 :  24340\n"
     ]
    },
    {
     "data": {
      "text/plain": [
       "array(['하나로클럽고양점', '소형슈퍼마켓', '이마트일산점', ..., '남촌농산물도매시장인농254또맛나상회',\n",
       "       'GSTHEFRESH연수점', '무점포이레유통'], dtype=object)"
      ]
     },
     "execution_count": 205,
     "metadata": {},
     "output_type": "execute_result"
    }
   ],
   "source": [
    "print('unique한 store 개수 : ', len(df['store'].unique()))\n",
    "df['store'].unique()"
   ]
  },
  {
   "cell_type": "code",
   "execution_count": 197,
   "metadata": {},
   "outputs": [
    {
     "data": {
      "text/plain": [
       "store\n",
       "소형슈퍼마켓            60792\n",
       "재래시장              40018\n",
       "대형슈퍼마켓            27627\n",
       "없음                16524\n",
       "전문점               15250\n",
       "                  ...  \n",
       "관우농장                  1\n",
       "장보남몰옥션                1\n",
       "인천모래내시장오빠네과일야채        1\n",
       "드림홈마트(도화점)            1\n",
       "무점포이레유통               1\n",
       "Name: count, Length: 24339, dtype: int64"
      ]
     },
     "execution_count": 197,
     "metadata": {},
     "output_type": "execute_result"
    }
   ],
   "source": [
    "df['store'].value_counts()"
   ]
  },
  {
   "cell_type": "markdown",
   "metadata": {},
   "source": [
    "## store_region : 구매 지역"
   ]
  },
  {
   "cell_type": "code",
   "execution_count": 206,
   "metadata": {},
   "outputs": [
    {
     "name": "stdout",
     "output_type": "stream",
     "text": [
      "unique한 store_region 개수 :  20\n"
     ]
    },
    {
     "data": {
      "text/plain": [
       "array(['경기', '없음', '서울', '인천', '전남', '강원', '제주', '광주', '대전', '충남', '경북',\n",
       "       '경남', '부산', '전북', '충북', '세종', '대구', '울산', '기타', nan], dtype=object)"
      ]
     },
     "execution_count": 206,
     "metadata": {},
     "output_type": "execute_result"
    }
   ],
   "source": [
    "print('unique한 store_region 개수 : ', len(df['store_region'].unique()))\n",
    "df['store_region'].unique()"
   ]
  },
  {
   "cell_type": "code",
   "execution_count": 199,
   "metadata": {},
   "outputs": [
    {
     "name": "stdout",
     "output_type": "stream",
     "text": [
      "null 개수 : 4115\n",
      "null 비율 : 0.007643271877588775\n"
     ]
    }
   ],
   "source": [
    "# null 개수 및 비율\n",
    "print('null 개수 : %s' % df['store_region'].isnull().sum())\n",
    "\n",
    "ratio = df['store_region'].isnull().sum() / len(df)\n",
    "print('null 비율 : %s' % ratio)"
   ]
  },
  {
   "cell_type": "code",
   "execution_count": 200,
   "metadata": {},
   "outputs": [
    {
     "name": "stdout",
     "output_type": "stream",
     "text": [
      "store_region이 null값인 데이터 중 store 빈도수 Top10 :  ['마켓컬리', '쿠팡', '무점포', '없음없음', '오아시스', '이마트몰', '쿠팡로켓프레시', '오아시스마켓', '11번가이마트몰', 'SSG.COM이마트몰']\n"
     ]
    }
   ],
   "source": [
    "# store_region이 null값인 데이터 확인\n",
    "print('store_region이 null값인 데이터 중 store 빈도수 Top10 : '\n",
    "      , df[df['store_region'].isna()]['store'].value_counts().sort_values(ascending=False).head(10).index.tolist())"
   ]
  },
  {
   "cell_type": "code",
   "execution_count": 201,
   "metadata": {},
   "outputs": [
    {
     "data": {
      "image/png": "[encoded data removed]",
      "text/plain": [
       "<Figure size 1500x500 with 1 Axes>"
      ]
     },
     "metadata": {},
     "output_type": "display_data"
    }
   ],
   "source": [
    "## 구매 지역별 시각화 \n",
    "sales_by_region = df['store_region'].value_counts().sort_values(ascending=False).copy()\n",
    "\n",
    "fix, ax = plt.subplots(figsize=(15, 5))\n",
    "\n",
    "ax.bar(sales_by_region.index, sales_by_region.values)\n",
    "ax.set_xlabel('구매 지역')\n",
    "ax.set_ylabel('판매 수량')\n",
    "\n",
    "plt.title('구매 지역별 판매량')\n",
    "plt.show()"
   ]
  },
  {
   "cell_type": "code",
   "execution_count": 207,
   "metadata": {},
   "outputs": [
    {
     "data": {
      "text/plain": [
       "store_region\n",
       "경기    0.440903\n",
       "서울    0.334224\n",
       "없음    0.124054\n",
       "인천    0.090769\n",
       "강원    0.001827\n",
       "충남    0.001361\n",
       "제주    0.001314\n",
       "Name: proportion, dtype: float64"
      ]
     },
     "execution_count": 207,
     "metadata": {},
     "output_type": "execute_result"
    }
   ],
   "source": [
    "# 지역별 판매 비율\n",
    "df['store_region'].value_counts(normalize=True).head(7)"
   ]
  },
  {
   "cell_type": "code",
   "execution_count": 203,
   "metadata": {},
   "outputs": [
    {
     "name": "stdout",
     "output_type": "stream",
     "text": [
      "store_region이 '없음'인 데이터 중 store 빈도수 Top10 :  ['없음', '노점', '산지직거래', '쿠팡', '기타', '마켓컬리', '농가직거래(방문,기타)', '인터넷구매', '이마트몰', '재래시장']\n"
     ]
    }
   ],
   "source": [
    "# store_region이 '없음'인 데이터 확인\n",
    "print(\"store_region이 '없음'인 데이터 중 store 빈도수 Top10 : \"\n",
    "      , df[df['store_region'] == '없음']['store'].value_counts().sort_values(ascending=False).head(10).index.tolist())"
   ]
  },
  {
   "cell_type": "markdown",
   "metadata": {},
   "source": [
    "## product : 상품명"
   ]
  },
  {
   "cell_type": "code",
   "execution_count": 208,
   "metadata": {},
   "outputs": [
    {
     "name": "stdout",
     "output_type": "stream",
     "text": [
      "unique한 product 개수 :  44025\n"
     ]
    },
    {
     "data": {
      "text/plain": [
       "array(['배친환경_', '바나나필리핀', '귤', ..., '조생귤_M_국산', '조생귤_L_국산', '스위트마운틴_수입'],\n",
       "      dtype=object)"
      ]
     },
     "execution_count": 208,
     "metadata": {},
     "output_type": "execute_result"
    }
   ],
   "source": [
    "print('unique한 product 개수 : ', len(df['product'].unique()))\n",
    "df['product'].unique()"
   ]
  },
  {
   "cell_type": "code",
   "execution_count": 209,
   "metadata": {},
   "outputs": [
    {
     "data": {
      "text/plain": [
       "product\n",
       "바나나           41891\n",
       "사과            36443\n",
       "귤             19383\n",
       "단감            14464\n",
       "복숭아           11305\n",
       "              ...  \n",
       "스텔라벨라청포도팩         1\n",
       "진영단감_극조생감귤        1\n",
       "가을햇사과             1\n",
       "GAP감홍사과           1\n",
       "스위트마운틴_수입         1\n",
       "Name: count, Length: 44024, dtype: int64"
      ]
     },
     "execution_count": 209,
     "metadata": {},
     "output_type": "execute_result"
    }
   ],
   "source": [
    "df['product'].value_counts()"
   ]
  },
  {
   "cell_type": "markdown",
   "metadata": {},
   "source": [
    "## wide : 대분류"
   ]
  },
  {
   "cell_type": "code",
   "execution_count": 212,
   "metadata": {},
   "outputs": [
    {
     "name": "stdout",
     "output_type": "stream",
     "text": [
      "unique한 wide 개수 :  1\n"
     ]
    },
    {
     "data": {
      "text/plain": [
       "array(['과일류'], dtype=object)"
      ]
     },
     "execution_count": 212,
     "metadata": {},
     "output_type": "execute_result"
    }
   ],
   "source": [
    "print('unique한 wide 개수 : ', len(df['wide'].unique()))\n",
    "df['wide'].unique()"
   ]
  },
  {
   "cell_type": "markdown",
   "metadata": {},
   "source": [
    "## middle : 중분류"
   ]
  },
  {
   "cell_type": "code",
   "execution_count": 214,
   "metadata": {},
   "outputs": [
    {
     "name": "stdout",
     "output_type": "stream",
     "text": [
      "unique한 middle 개수 :  19\n"
     ]
    },
    {
     "data": {
      "text/plain": [
       "array(['배', '바나나', '감귤', '사과', '단감', '레몬', '떫은감', '오렌지', '참다래', '기타과일',\n",
       "       '복숭아', '열대과일', '파인애플', '포도', '베리', '체리', '묶음과일', '매실', '자두'],\n",
       "      dtype=object)"
      ]
     },
     "execution_count": 214,
     "metadata": {},
     "output_type": "execute_result"
    }
   ],
   "source": [
    "print('unique한 middle 개수 : ', len(df['middle'].unique()))\n",
    "df['middle'].unique()"
   ]
  },
  {
   "cell_type": "code",
   "execution_count": 215,
   "metadata": {},
   "outputs": [
    {
     "data": {
      "image/png": "[encoded data removed]",
      "text/plain": [
       "<Figure size 1500x500 with 1 Axes>"
      ]
     },
     "metadata": {},
     "output_type": "display_data"
    }
   ],
   "source": [
    "## 중분류별 시각화 \n",
    "sales_by_middle = df['middle'].value_counts().sort_values(ascending=False).copy()\n",
    "\n",
    "fix, ax = plt.subplots(figsize=(15, 5))\n",
    "\n",
    "ax.bar(sales_by_middle.index, sales_by_middle.values)\n",
    "ax.set_xlabel('중분류')\n",
    "ax.set_ylabel('판매 수량')\n",
    "\n",
    "plt.title('중분류별 판매량')\n",
    "plt.show()"
   ]
  },
  {
   "cell_type": "markdown",
   "metadata": {},
   "source": [
    "## detail : 소분류"
   ]
  },
  {
   "cell_type": "code",
   "execution_count": 216,
   "metadata": {},
   "outputs": [
    {
     "name": "stdout",
     "output_type": "stream",
     "text": [
      "unique한 detail 개수 :  59\n"
     ]
    },
    {
     "data": {
      "text/plain": [
       "array(['기타배', '일반바나나', '밀감', '기타사과', '단감', '레몬', '후지', '신고배', '일반떫은감',\n",
       "       '대봉시', '오렌지', '홍시', '그린키위', '기타과일', '천도', '기타키위', '자몽', '골드키위',\n",
       "       '파인애플', '대봉', '한라봉', '기타바나나', '석류', '기타포도', '캠벨얼리', '유자', '기타감귤',\n",
       "       '청견', '세리단', '금귤', '복분자', '기타열대과일', '황도', '적포도', '기타베리', '블루베리',\n",
       "       '체리', '청포도', '망고', '거봉', '무화과', '묶음과일', '머루포도_MBA_', '매실', '홍로',\n",
       "       '혼합과일', '델라웨어', '자두', '일반복숭아', '오디', '아오리', '백도', '홍옥', '킹델라웨어',\n",
       "       '반시', '모과', '기타복숭아', '기타감', '올리브'], dtype=object)"
      ]
     },
     "execution_count": 216,
     "metadata": {},
     "output_type": "execute_result"
    }
   ],
   "source": [
    "print('unique한 detail 개수 : ', len(df['detail'].unique()))\n",
    "df['detail'].unique()"
   ]
  },
  {
   "cell_type": "code",
   "execution_count": 220,
   "metadata": {},
   "outputs": [
    {
     "data": {
      "image/png": "[encoded data removed]",
      "text/plain": [
       "<Figure size 1500x500 with 1 Axes>"
      ]
     },
     "metadata": {},
     "output_type": "display_data"
    }
   ],
   "source": [
    "## 소분류별 시각화 \n",
    "sales_by_detail = df['detail'].value_counts().sort_values(ascending=False).copy()\n",
    "\n",
    "fix, ax = plt.subplots(figsize=(15, 5))\n",
    "\n",
    "ax.bar(sales_by_detail.index, sales_by_detail.values)\n",
    "ax.set_xlabel('소분류')\n",
    "ax.set_ylabel('판매 수량')\n",
    "\n",
    "plt.title('소분류별 판매량')\n",
    "plt.xticks(rotation=90)\n",
    "plt.show()"
   ]
  },
  {
   "cell_type": "code",
   "execution_count": 223,
   "metadata": {},
   "outputs": [
    {
     "data": {
      "image/png": "[encoded data removed]",
      "text/plain": [
       "<Figure size 1500x500 with 1 Axes>"
      ]
     },
     "metadata": {},
     "output_type": "display_data"
    }
   ],
   "source": [
    "## 특정 중분류(사과)에 해당하는 소분류 시각화 \n",
    "sales_by_middle_detail = df[df['middle'] == '사과']['detail'].value_counts().sort_values(ascending=False).copy()\n",
    "\n",
    "fix, ax = plt.subplots(figsize=(15, 5))\n",
    "\n",
    "ax.bar(sales_by_middle_detail.index, sales_by_middle_detail.values)\n",
    "ax.set_xlabel('소분류')\n",
    "ax.set_ylabel('판매 수량')\n",
    "\n",
    "plt.title('특정 중분류(사과)에 해당하는 소분류별 판매량')\n",
    "plt.show()"
   ]
  },
  {
   "cell_type": "markdown",
   "metadata": {},
   "source": [
    "## purchase : 구입액"
   ]
  },
  {
   "cell_type": "code",
   "execution_count": null,
   "metadata": {},
   "outputs": [],
   "source": []
  }
 ],
 "metadata": {
  "kernelspec": {
   "display_name": "base",
   "language": "python",
   "name": "python3"
  },
  "language_info": {
   "codemirror_mode": {
    "name": "ipython",
    "version": 3
   },
   "file_extension": ".py",
   "mimetype": "text/x-python",
   "name": "python",
   "nbconvert_exporter": "python",
   "pygments_lexer": "ipython3",
   "version": "3.11.5"
  }
 },
 "nbformat": 4,
 "nbformat_minor": 2
}
